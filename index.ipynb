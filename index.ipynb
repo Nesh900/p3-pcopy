{
 "cells": [
  {
   "cell_type": "markdown",
   "id": "36d15141",
   "metadata": {},
   "source": [
    "# ***Stroke Risk factors***"
   ]
  },
  {
   "cell_type": "markdown",
   "id": "072ce980",
   "metadata": {},
   "source": [
    "## **Introduction**\n",
    "According to the World Health Organization (WHO) stroke is the 2nd leading cause of death globally, responsible for approximately 11% of total deaths.\n",
    "\n",
    "A stroke occurs when the blood supply to part of the brain is interrupted or reduced, depriving brain tissue of oxygen and nutrients, which can lead to brain cell death within minutes. There are two main types: ischemic stroke, caused by a blocked artery, and hemorrhagic stroke, resulting from a ruptured blood vessel. Key risk factors for stroke include high blood pressure, smoking, diabetes, obesity, high cholesterol, physical inactivity, and excessive alcohol consumption. Additionally, age, family history, and cardiovascular diseases such as atrial fibrillation can increase the likelihood of experiencing a stroke. Managing these risk factors through lifestyle changes and medical treatment can significantly reduce the chances of stroke occurrence.\n",
    "\n",
    "Analyzing stroke risk factors is crucial for both prevention and effective management of this life-threatening condition. By identifying and understanding these risk factors, healthcare providers can develop targeted strategies to reduce an individual's likelihood of suffering a stroke\n",
    "\n",
    " Early recognition of modifiable risks—such as hypertension, diabetes, smoking, poor diet, and physical inactivity—allows for timely interventions like lifestyle modifications, medications, and regular monitoring.\n",
    "\n",
    " Additionally, assessing non-modifiable factors like age, genetics, and prior stroke history helps in risk stratification, enabling personalized care plans\n"
   ]
  },
  {
   "cell_type": "markdown",
   "id": "3cffa899",
   "metadata": {},
   "source": [
    "## *Problem Statement*\n",
    "\n",
    "According to the World Health Organization (WHO) stroke is the 2nd leading cause of death globally, responsible for approximately 11% of total deaths making early detection and risk factor analysis a critical area of focus for both public health and clinical decision-making.\n",
    "This project aims to leverage machine learning and data analysis techniques to identify and quantify key risk factors associated with getting a stroke. Using patient health metrics—such as presence of other diseases( hypertension), high blood pressure, BMI, and lifestyle attributes such as smoking—we seek to build predictive models that can classify individuals as at risk or not at risk for stroke\n",
    "\n",
    "The aim is to develop a data-driven tool that helps healthcare providers detect high-risk patients sooner, allowing for more precise preventive measures and optimized use of medical resources\n"
   ]
  },
  {
   "cell_type": "markdown",
   "id": "ceb82adf",
   "metadata": {},
   "source": [
    "## *Objectives*\n",
    "\n",
    "The main objectives of this project are as follows:\n",
    "\n",
    "+ To conduct exploratory data analysis (EDA) on variables potentially linked to stroke.\n",
    "\n",
    "+ To develop a baseline model for initial performance benchmarking.\n",
    "\n",
    "+ To build a machine learning model capable of predicting an individual’s risk of stroke.\n",
    "\n",
    "+ To evaluate the model’s performance using appropriate metrics and perform hyperparameter tuning to optimize results, if needed"
   ]
  },
  {
   "cell_type": "markdown",
   "id": "1e1ecafb",
   "metadata": {},
   "source": [
    "## **Dataset**\n",
    "\n",
    "the dataset for this analysis has been sourced from Kaggle.This dataset is used to predict whether a patient is likely to get stroke based on the input parameters like gender, age, various diseases, and smoking status. Each row in the data provides relavant information about the patient.\n",
    "\n",
    "The dataset contains health related records of over 5000 individuals\n",
    "\n",
    "The target variable is **stroke**, a binary indicator where:\n",
    "\n",
    "+ 1: The individual has experienced a stroke.\n",
    "\n",
    "+ : No stroke diagnosis (control group)\n",
    "\n",
    "The dataset is well-structured and relatively clean, requiring minimal preprocessing, which makes it immediately suitable for analysis. However, to maximize its predictive potential and uncover deeper insights, targeted feature engineering will be necessary. This process will help derive more meaningful variables, enhance model performance, and ensure the data aligns optimally with our specific objective of stroke risk prediction\n",
    "By transforming and creating relevant features, we can better capture underlying patterns and relationships that may not be apparent in the raw data\n"
   ]
  },
  {
   "cell_type": "markdown",
   "id": "2810173e",
   "metadata": {},
   "source": [
    "## **Data Pre-processing**\n",
    "\n",
    "## *Importing required Libraries*\n",
    "\n",
    "\n"
   ]
  },
  {
   "cell_type": "code",
   "execution_count": 150,
   "id": "8db3985e",
   "metadata": {},
   "outputs": [],
   "source": [
    "import warnings\n",
    "warnings.filterwarnings('ignore')\n",
    "import os\n",
    "os.environ['OMP_NUM_THREADS'] = '1'  # Disables OpenMP threading\n",
    "os.environ['OPENBLAS_NUM_THREADS'] = '1'\n",
    "from imblearn.pipeline import make_pipeline\n",
    "#importing the necessary libraries\n",
    "import pandas as pd \n",
    "import numpy as np \n",
    "import matplotlib.pyplot as plt \n",
    "import seaborn as sns\n",
    "import scipy.stats as stats\n",
    "import statsmodels.api as sm\n",
    "import statsmodels.formula.api as smf\n",
    "%matplotlib inline\n",
    "from sklearn.preprocessing import OrdinalEncoder\n",
    "from sklearn.preprocessing import OneHotEncoder\n",
    "from sklearn.preprocessing import MinMaxScaler\n",
    "from sklearn.preprocessing import StandardScaler\n",
    "from sklearn.preprocessing import LabelEncoder\n",
    "from sklearn.preprocessing import PolynomialFeatures\n",
    "from sklearn.linear_model import LogisticRegression\n",
    "from sklearn.compose import ColumnTransformer\n",
    "from sklearn.model_selection import train_test_split\n",
    "from sklearn.model_selection import cross_val_score\n",
    "from sklearn.metrics import classification_report\n",
    "from sklearn.tree import DecisionTreeClassifier\n",
    "from sklearn.ensemble import RandomForestClassifier\n",
    "from xgboost import XGBClassifier\n",
    "from sklearn.metrics import roc_curve,auc\n",
    "from sklearn.metrics import confusion_matrix,ConfusionMatrixDisplay\n",
    "from statsmodels.stats.outliers_influence import variance_inflation_factor\n",
    "from imblearn.over_sampling import SMOTE\n",
    "from imblearn.pipeline import make_pipeline  # Supports SMOTE in pipelines\n",
    "from sklearn.pipeline import Pipeline\n",
    "from sklearn.metrics import classification_report, confusion_matrix, accuracy_score\n",
    "from sklearn.metrics import RocCurveDisplay\n",
    "from sklearn.model_selection import GridSearchCV\n",
    "from sklearn.metrics import make_scorer, precision_score, recall_score, f1_score\n",
    "from sklearn.model_selection import GridSearchCV\n",
    "from sklearn.metrics import precision_score, recall_score, f1_score, make_scorer, classification_report, accuracy_score, confusion_matrix\n",
    "from sklearn.feature_selection import RFE\n",
    "from imblearn.pipeline import Pipeline\n",
    "\n",
    "  "
   ]
  },
  {
   "cell_type": "markdown",
   "id": "ba0385ee",
   "metadata": {},
   "source": [
    "## **Loading The Dataset**\n",
    "\n",
    "We begin by loading the stroke dataset using `pandas`. \n"
   ]
  },
  {
   "cell_type": "code",
   "execution_count": 2,
   "id": "8f4595fa",
   "metadata": {},
   "outputs": [
    {
     "data": {
      "application/vnd.microsoft.datawrangler.viewer.v0+json": {
       "columns": [
        {
         "name": "index",
         "rawType": "int64",
         "type": "integer"
        },
        {
         "name": "id",
         "rawType": "int64",
         "type": "integer"
        },
        {
         "name": "gender",
         "rawType": "object",
         "type": "string"
        },
        {
         "name": "age",
         "rawType": "float64",
         "type": "float"
        },
        {
         "name": "hypertension",
         "rawType": "int64",
         "type": "integer"
        },
        {
         "name": "heart_disease",
         "rawType": "int64",
         "type": "integer"
        },
        {
         "name": "ever_married",
         "rawType": "object",
         "type": "string"
        },
        {
         "name": "work_type",
         "rawType": "object",
         "type": "string"
        },
        {
         "name": "Residence_type",
         "rawType": "object",
         "type": "string"
        },
        {
         "name": "avg_glucose_level",
         "rawType": "float64",
         "type": "float"
        },
        {
         "name": "bmi",
         "rawType": "float64",
         "type": "float"
        },
        {
         "name": "smoking_status",
         "rawType": "object",
         "type": "string"
        },
        {
         "name": "stroke",
         "rawType": "int64",
         "type": "integer"
        }
       ],
       "ref": "98c44ac2-a585-476a-8cd3-779e0e466672",
       "rows": [
        [
         "0",
         "9046",
         "Male",
         "67.0",
         "0",
         "1",
         "Yes",
         "Private",
         "Urban",
         "228.69",
         "36.6",
         "formerly smoked",
         "1"
        ],
        [
         "1",
         "51676",
         "Female",
         "61.0",
         "0",
         "0",
         "Yes",
         "Self-employed",
         "Rural",
         "202.21",
         null,
         "never smoked",
         "1"
        ],
        [
         "2",
         "31112",
         "Male",
         "80.0",
         "0",
         "1",
         "Yes",
         "Private",
         "Rural",
         "105.92",
         "32.5",
         "never smoked",
         "1"
        ],
        [
         "3",
         "60182",
         "Female",
         "49.0",
         "0",
         "0",
         "Yes",
         "Private",
         "Urban",
         "171.23",
         "34.4",
         "smokes",
         "1"
        ],
        [
         "4",
         "1665",
         "Female",
         "79.0",
         "1",
         "0",
         "Yes",
         "Self-employed",
         "Rural",
         "174.12",
         "24.0",
         "never smoked",
         "1"
        ]
       ],
       "shape": {
        "columns": 12,
        "rows": 5
       }
      },
      "text/html": [
       "<div>\n",
       "<style scoped>\n",
       "    .dataframe tbody tr th:only-of-type {\n",
       "        vertical-align: middle;\n",
       "    }\n",
       "\n",
       "    .dataframe tbody tr th {\n",
       "        vertical-align: top;\n",
       "    }\n",
       "\n",
       "    .dataframe thead th {\n",
       "        text-align: right;\n",
       "    }\n",
       "</style>\n",
       "<table border=\"1\" class=\"dataframe\">\n",
       "  <thead>\n",
       "    <tr style=\"text-align: right;\">\n",
       "      <th></th>\n",
       "      <th>id</th>\n",
       "      <th>gender</th>\n",
       "      <th>age</th>\n",
       "      <th>hypertension</th>\n",
       "      <th>heart_disease</th>\n",
       "      <th>ever_married</th>\n",
       "      <th>work_type</th>\n",
       "      <th>Residence_type</th>\n",
       "      <th>avg_glucose_level</th>\n",
       "      <th>bmi</th>\n",
       "      <th>smoking_status</th>\n",
       "      <th>stroke</th>\n",
       "    </tr>\n",
       "  </thead>\n",
       "  <tbody>\n",
       "    <tr>\n",
       "      <th>0</th>\n",
       "      <td>9046</td>\n",
       "      <td>Male</td>\n",
       "      <td>67.0</td>\n",
       "      <td>0</td>\n",
       "      <td>1</td>\n",
       "      <td>Yes</td>\n",
       "      <td>Private</td>\n",
       "      <td>Urban</td>\n",
       "      <td>228.69</td>\n",
       "      <td>36.6</td>\n",
       "      <td>formerly smoked</td>\n",
       "      <td>1</td>\n",
       "    </tr>\n",
       "    <tr>\n",
       "      <th>1</th>\n",
       "      <td>51676</td>\n",
       "      <td>Female</td>\n",
       "      <td>61.0</td>\n",
       "      <td>0</td>\n",
       "      <td>0</td>\n",
       "      <td>Yes</td>\n",
       "      <td>Self-employed</td>\n",
       "      <td>Rural</td>\n",
       "      <td>202.21</td>\n",
       "      <td>NaN</td>\n",
       "      <td>never smoked</td>\n",
       "      <td>1</td>\n",
       "    </tr>\n",
       "    <tr>\n",
       "      <th>2</th>\n",
       "      <td>31112</td>\n",
       "      <td>Male</td>\n",
       "      <td>80.0</td>\n",
       "      <td>0</td>\n",
       "      <td>1</td>\n",
       "      <td>Yes</td>\n",
       "      <td>Private</td>\n",
       "      <td>Rural</td>\n",
       "      <td>105.92</td>\n",
       "      <td>32.5</td>\n",
       "      <td>never smoked</td>\n",
       "      <td>1</td>\n",
       "    </tr>\n",
       "    <tr>\n",
       "      <th>3</th>\n",
       "      <td>60182</td>\n",
       "      <td>Female</td>\n",
       "      <td>49.0</td>\n",
       "      <td>0</td>\n",
       "      <td>0</td>\n",
       "      <td>Yes</td>\n",
       "      <td>Private</td>\n",
       "      <td>Urban</td>\n",
       "      <td>171.23</td>\n",
       "      <td>34.4</td>\n",
       "      <td>smokes</td>\n",
       "      <td>1</td>\n",
       "    </tr>\n",
       "    <tr>\n",
       "      <th>4</th>\n",
       "      <td>1665</td>\n",
       "      <td>Female</td>\n",
       "      <td>79.0</td>\n",
       "      <td>1</td>\n",
       "      <td>0</td>\n",
       "      <td>Yes</td>\n",
       "      <td>Self-employed</td>\n",
       "      <td>Rural</td>\n",
       "      <td>174.12</td>\n",
       "      <td>24.0</td>\n",
       "      <td>never smoked</td>\n",
       "      <td>1</td>\n",
       "    </tr>\n",
       "  </tbody>\n",
       "</table>\n",
       "</div>"
      ],
      "text/plain": [
       "      id  gender   age  hypertension  heart_disease ever_married  \\\n",
       "0   9046    Male  67.0             0              1          Yes   \n",
       "1  51676  Female  61.0             0              0          Yes   \n",
       "2  31112    Male  80.0             0              1          Yes   \n",
       "3  60182  Female  49.0             0              0          Yes   \n",
       "4   1665  Female  79.0             1              0          Yes   \n",
       "\n",
       "       work_type Residence_type  avg_glucose_level   bmi   smoking_status  \\\n",
       "0        Private          Urban             228.69  36.6  formerly smoked   \n",
       "1  Self-employed          Rural             202.21   NaN     never smoked   \n",
       "2        Private          Rural             105.92  32.5     never smoked   \n",
       "3        Private          Urban             171.23  34.4           smokes   \n",
       "4  Self-employed          Rural             174.12  24.0     never smoked   \n",
       "\n",
       "   stroke  \n",
       "0       1  \n",
       "1       1  \n",
       "2       1  \n",
       "3       1  \n",
       "4       1  "
      ]
     },
     "execution_count": 2,
     "metadata": {},
     "output_type": "execute_result"
    }
   ],
   "source": [
    "raw_data = pd.read_csv('healthcare-dataset-stroke-data.csv')\n",
    "raw_data.head()"
   ]
  },
  {
   "cell_type": "markdown",
   "id": "e86ac287",
   "metadata": {},
   "source": [
    "To preserve the original dataset, we create a copy named `df`, which we will use for all transformations and analysis.\n"
   ]
  },
  {
   "cell_type": "code",
   "execution_count": 3,
   "id": "c48a61bd",
   "metadata": {},
   "outputs": [
    {
     "data": {
      "application/vnd.microsoft.datawrangler.viewer.v0+json": {
       "columns": [
        {
         "name": "index",
         "rawType": "int64",
         "type": "integer"
        },
        {
         "name": "id",
         "rawType": "int64",
         "type": "integer"
        },
        {
         "name": "gender",
         "rawType": "object",
         "type": "string"
        },
        {
         "name": "age",
         "rawType": "float64",
         "type": "float"
        },
        {
         "name": "hypertension",
         "rawType": "int64",
         "type": "integer"
        },
        {
         "name": "heart_disease",
         "rawType": "int64",
         "type": "integer"
        },
        {
         "name": "ever_married",
         "rawType": "object",
         "type": "string"
        },
        {
         "name": "work_type",
         "rawType": "object",
         "type": "string"
        },
        {
         "name": "Residence_type",
         "rawType": "object",
         "type": "string"
        },
        {
         "name": "avg_glucose_level",
         "rawType": "float64",
         "type": "float"
        },
        {
         "name": "bmi",
         "rawType": "float64",
         "type": "float"
        },
        {
         "name": "smoking_status",
         "rawType": "object",
         "type": "string"
        },
        {
         "name": "stroke",
         "rawType": "int64",
         "type": "integer"
        }
       ],
       "ref": "416a85db-aa91-4e78-b95b-ea80166e1100",
       "rows": [
        [
         "0",
         "9046",
         "Male",
         "67.0",
         "0",
         "1",
         "Yes",
         "Private",
         "Urban",
         "228.69",
         "36.6",
         "formerly smoked",
         "1"
        ],
        [
         "1",
         "51676",
         "Female",
         "61.0",
         "0",
         "0",
         "Yes",
         "Self-employed",
         "Rural",
         "202.21",
         null,
         "never smoked",
         "1"
        ],
        [
         "2",
         "31112",
         "Male",
         "80.0",
         "0",
         "1",
         "Yes",
         "Private",
         "Rural",
         "105.92",
         "32.5",
         "never smoked",
         "1"
        ],
        [
         "3",
         "60182",
         "Female",
         "49.0",
         "0",
         "0",
         "Yes",
         "Private",
         "Urban",
         "171.23",
         "34.4",
         "smokes",
         "1"
        ],
        [
         "4",
         "1665",
         "Female",
         "79.0",
         "1",
         "0",
         "Yes",
         "Self-employed",
         "Rural",
         "174.12",
         "24.0",
         "never smoked",
         "1"
        ],
        [
         "5",
         "56669",
         "Male",
         "81.0",
         "0",
         "0",
         "Yes",
         "Private",
         "Urban",
         "186.21",
         "29.0",
         "formerly smoked",
         "1"
        ],
        [
         "6",
         "53882",
         "Male",
         "74.0",
         "1",
         "1",
         "Yes",
         "Private",
         "Rural",
         "70.09",
         "27.4",
         "never smoked",
         "1"
        ],
        [
         "7",
         "10434",
         "Female",
         "69.0",
         "0",
         "0",
         "No",
         "Private",
         "Urban",
         "94.39",
         "22.8",
         "never smoked",
         "1"
        ],
        [
         "8",
         "27419",
         "Female",
         "59.0",
         "0",
         "0",
         "Yes",
         "Private",
         "Rural",
         "76.15",
         null,
         "Unknown",
         "1"
        ],
        [
         "9",
         "60491",
         "Female",
         "78.0",
         "0",
         "0",
         "Yes",
         "Private",
         "Urban",
         "58.57",
         "24.2",
         "Unknown",
         "1"
        ],
        [
         "10",
         "12109",
         "Female",
         "81.0",
         "1",
         "0",
         "Yes",
         "Private",
         "Rural",
         "80.43",
         "29.7",
         "never smoked",
         "1"
        ],
        [
         "11",
         "12095",
         "Female",
         "61.0",
         "0",
         "1",
         "Yes",
         "Govt_job",
         "Rural",
         "120.46",
         "36.8",
         "smokes",
         "1"
        ],
        [
         "12",
         "12175",
         "Female",
         "54.0",
         "0",
         "0",
         "Yes",
         "Private",
         "Urban",
         "104.51",
         "27.3",
         "smokes",
         "1"
        ],
        [
         "13",
         "8213",
         "Male",
         "78.0",
         "0",
         "1",
         "Yes",
         "Private",
         "Urban",
         "219.84",
         null,
         "Unknown",
         "1"
        ],
        [
         "14",
         "5317",
         "Female",
         "79.0",
         "0",
         "1",
         "Yes",
         "Private",
         "Urban",
         "214.09",
         "28.2",
         "never smoked",
         "1"
        ],
        [
         "15",
         "58202",
         "Female",
         "50.0",
         "1",
         "0",
         "Yes",
         "Self-employed",
         "Rural",
         "167.41",
         "30.9",
         "never smoked",
         "1"
        ],
        [
         "16",
         "56112",
         "Male",
         "64.0",
         "0",
         "1",
         "Yes",
         "Private",
         "Urban",
         "191.61",
         "37.5",
         "smokes",
         "1"
        ],
        [
         "17",
         "34120",
         "Male",
         "75.0",
         "1",
         "0",
         "Yes",
         "Private",
         "Urban",
         "221.29",
         "25.8",
         "smokes",
         "1"
        ],
        [
         "18",
         "27458",
         "Female",
         "60.0",
         "0",
         "0",
         "No",
         "Private",
         "Urban",
         "89.22",
         "37.8",
         "never smoked",
         "1"
        ],
        [
         "19",
         "25226",
         "Male",
         "57.0",
         "0",
         "1",
         "No",
         "Govt_job",
         "Urban",
         "217.08",
         null,
         "Unknown",
         "1"
        ],
        [
         "20",
         "70630",
         "Female",
         "71.0",
         "0",
         "0",
         "Yes",
         "Govt_job",
         "Rural",
         "193.94",
         "22.4",
         "smokes",
         "1"
        ],
        [
         "21",
         "13861",
         "Female",
         "52.0",
         "1",
         "0",
         "Yes",
         "Self-employed",
         "Urban",
         "233.29",
         "48.9",
         "never smoked",
         "1"
        ],
        [
         "22",
         "68794",
         "Female",
         "79.0",
         "0",
         "0",
         "Yes",
         "Self-employed",
         "Urban",
         "228.7",
         "26.6",
         "never smoked",
         "1"
        ],
        [
         "23",
         "64778",
         "Male",
         "82.0",
         "0",
         "1",
         "Yes",
         "Private",
         "Rural",
         "208.3",
         "32.5",
         "Unknown",
         "1"
        ],
        [
         "24",
         "4219",
         "Male",
         "71.0",
         "0",
         "0",
         "Yes",
         "Private",
         "Urban",
         "102.87",
         "27.2",
         "formerly smoked",
         "1"
        ],
        [
         "25",
         "70822",
         "Male",
         "80.0",
         "0",
         "0",
         "Yes",
         "Self-employed",
         "Rural",
         "104.12",
         "23.5",
         "never smoked",
         "1"
        ],
        [
         "26",
         "38047",
         "Female",
         "65.0",
         "0",
         "0",
         "Yes",
         "Private",
         "Rural",
         "100.98",
         "28.2",
         "formerly smoked",
         "1"
        ],
        [
         "27",
         "61843",
         "Male",
         "58.0",
         "0",
         "0",
         "Yes",
         "Private",
         "Rural",
         "189.84",
         null,
         "Unknown",
         "1"
        ],
        [
         "28",
         "54827",
         "Male",
         "69.0",
         "0",
         "1",
         "Yes",
         "Self-employed",
         "Urban",
         "195.23",
         "28.3",
         "smokes",
         "1"
        ],
        [
         "29",
         "69160",
         "Male",
         "59.0",
         "0",
         "0",
         "Yes",
         "Private",
         "Rural",
         "211.78",
         null,
         "formerly smoked",
         "1"
        ],
        [
         "30",
         "43717",
         "Male",
         "57.0",
         "1",
         "0",
         "Yes",
         "Private",
         "Urban",
         "212.08",
         "44.2",
         "smokes",
         "1"
        ],
        [
         "31",
         "33879",
         "Male",
         "42.0",
         "0",
         "0",
         "Yes",
         "Private",
         "Rural",
         "83.41",
         "25.4",
         "Unknown",
         "1"
        ],
        [
         "32",
         "39373",
         "Female",
         "82.0",
         "1",
         "0",
         "Yes",
         "Self-employed",
         "Urban",
         "196.92",
         "22.2",
         "never smoked",
         "1"
        ],
        [
         "33",
         "54401",
         "Male",
         "80.0",
         "0",
         "1",
         "Yes",
         "Self-employed",
         "Urban",
         "252.72",
         "30.5",
         "formerly smoked",
         "1"
        ],
        [
         "34",
         "14248",
         "Male",
         "48.0",
         "0",
         "0",
         "No",
         "Govt_job",
         "Urban",
         "84.2",
         "29.7",
         "never smoked",
         "1"
        ],
        [
         "35",
         "712",
         "Female",
         "82.0",
         "1",
         "1",
         "No",
         "Private",
         "Rural",
         "84.03",
         "26.5",
         "formerly smoked",
         "1"
        ],
        [
         "36",
         "47269",
         "Male",
         "74.0",
         "0",
         "0",
         "Yes",
         "Private",
         "Rural",
         "219.72",
         "33.7",
         "formerly smoked",
         "1"
        ],
        [
         "37",
         "24977",
         "Female",
         "72.0",
         "1",
         "0",
         "Yes",
         "Private",
         "Rural",
         "74.63",
         "23.1",
         "formerly smoked",
         "1"
        ],
        [
         "38",
         "47306",
         "Male",
         "58.0",
         "0",
         "0",
         "No",
         "Private",
         "Rural",
         "92.62",
         "32.0",
         "Unknown",
         "1"
        ],
        [
         "39",
         "62602",
         "Female",
         "49.0",
         "0",
         "0",
         "Yes",
         "Private",
         "Urban",
         "60.91",
         "29.9",
         "never smoked",
         "1"
        ],
        [
         "40",
         "4651",
         "Male",
         "78.0",
         "0",
         "0",
         "Yes",
         "Private",
         "Rural",
         "78.03",
         "23.9",
         "formerly smoked",
         "1"
        ],
        [
         "41",
         "1261",
         "Male",
         "54.0",
         "0",
         "0",
         "Yes",
         "Private",
         "Urban",
         "71.22",
         "28.5",
         "never smoked",
         "1"
        ],
        [
         "42",
         "61960",
         "Male",
         "82.0",
         "0",
         "1",
         "Yes",
         "Private",
         "Urban",
         "144.9",
         "26.4",
         "smokes",
         "1"
        ],
        [
         "43",
         "1845",
         "Female",
         "63.0",
         "0",
         "0",
         "Yes",
         "Private",
         "Urban",
         "90.9",
         null,
         "formerly smoked",
         "1"
        ],
        [
         "44",
         "7937",
         "Male",
         "60.0",
         "1",
         "0",
         "Yes",
         "Govt_job",
         "Urban",
         "213.03",
         "20.2",
         "smokes",
         "1"
        ],
        [
         "45",
         "19824",
         "Male",
         "76.0",
         "1",
         "0",
         "Yes",
         "Private",
         "Rural",
         "243.58",
         "33.6",
         "never smoked",
         "1"
        ],
        [
         "46",
         "37937",
         "Female",
         "75.0",
         "0",
         "1",
         "No",
         "Self-employed",
         "Urban",
         "109.78",
         null,
         "Unknown",
         "1"
        ],
        [
         "47",
         "47472",
         "Female",
         "58.0",
         "0",
         "0",
         "Yes",
         "Private",
         "Urban",
         "107.26",
         "38.6",
         "formerly smoked",
         "1"
        ],
        [
         "48",
         "35626",
         "Male",
         "81.0",
         "0",
         "0",
         "Yes",
         "Self-employed",
         "Urban",
         "99.33",
         "33.7",
         "never smoked",
         "1"
        ],
        [
         "49",
         "36338",
         "Female",
         "39.0",
         "1",
         "0",
         "Yes",
         "Private",
         "Rural",
         "58.09",
         "39.2",
         "smokes",
         "1"
        ]
       ],
       "shape": {
        "columns": 12,
        "rows": 5110
       }
      },
      "text/html": [
       "<div>\n",
       "<style scoped>\n",
       "    .dataframe tbody tr th:only-of-type {\n",
       "        vertical-align: middle;\n",
       "    }\n",
       "\n",
       "    .dataframe tbody tr th {\n",
       "        vertical-align: top;\n",
       "    }\n",
       "\n",
       "    .dataframe thead th {\n",
       "        text-align: right;\n",
       "    }\n",
       "</style>\n",
       "<table border=\"1\" class=\"dataframe\">\n",
       "  <thead>\n",
       "    <tr style=\"text-align: right;\">\n",
       "      <th></th>\n",
       "      <th>id</th>\n",
       "      <th>gender</th>\n",
       "      <th>age</th>\n",
       "      <th>hypertension</th>\n",
       "      <th>heart_disease</th>\n",
       "      <th>ever_married</th>\n",
       "      <th>work_type</th>\n",
       "      <th>Residence_type</th>\n",
       "      <th>avg_glucose_level</th>\n",
       "      <th>bmi</th>\n",
       "      <th>smoking_status</th>\n",
       "      <th>stroke</th>\n",
       "    </tr>\n",
       "  </thead>\n",
       "  <tbody>\n",
       "    <tr>\n",
       "      <th>0</th>\n",
       "      <td>9046</td>\n",
       "      <td>Male</td>\n",
       "      <td>67.0</td>\n",
       "      <td>0</td>\n",
       "      <td>1</td>\n",
       "      <td>Yes</td>\n",
       "      <td>Private</td>\n",
       "      <td>Urban</td>\n",
       "      <td>228.69</td>\n",
       "      <td>36.6</td>\n",
       "      <td>formerly smoked</td>\n",
       "      <td>1</td>\n",
       "    </tr>\n",
       "    <tr>\n",
       "      <th>1</th>\n",
       "      <td>51676</td>\n",
       "      <td>Female</td>\n",
       "      <td>61.0</td>\n",
       "      <td>0</td>\n",
       "      <td>0</td>\n",
       "      <td>Yes</td>\n",
       "      <td>Self-employed</td>\n",
       "      <td>Rural</td>\n",
       "      <td>202.21</td>\n",
       "      <td>NaN</td>\n",
       "      <td>never smoked</td>\n",
       "      <td>1</td>\n",
       "    </tr>\n",
       "    <tr>\n",
       "      <th>2</th>\n",
       "      <td>31112</td>\n",
       "      <td>Male</td>\n",
       "      <td>80.0</td>\n",
       "      <td>0</td>\n",
       "      <td>1</td>\n",
       "      <td>Yes</td>\n",
       "      <td>Private</td>\n",
       "      <td>Rural</td>\n",
       "      <td>105.92</td>\n",
       "      <td>32.5</td>\n",
       "      <td>never smoked</td>\n",
       "      <td>1</td>\n",
       "    </tr>\n",
       "    <tr>\n",
       "      <th>3</th>\n",
       "      <td>60182</td>\n",
       "      <td>Female</td>\n",
       "      <td>49.0</td>\n",
       "      <td>0</td>\n",
       "      <td>0</td>\n",
       "      <td>Yes</td>\n",
       "      <td>Private</td>\n",
       "      <td>Urban</td>\n",
       "      <td>171.23</td>\n",
       "      <td>34.4</td>\n",
       "      <td>smokes</td>\n",
       "      <td>1</td>\n",
       "    </tr>\n",
       "    <tr>\n",
       "      <th>4</th>\n",
       "      <td>1665</td>\n",
       "      <td>Female</td>\n",
       "      <td>79.0</td>\n",
       "      <td>1</td>\n",
       "      <td>0</td>\n",
       "      <td>Yes</td>\n",
       "      <td>Self-employed</td>\n",
       "      <td>Rural</td>\n",
       "      <td>174.12</td>\n",
       "      <td>24.0</td>\n",
       "      <td>never smoked</td>\n",
       "      <td>1</td>\n",
       "    </tr>\n",
       "    <tr>\n",
       "      <th>...</th>\n",
       "      <td>...</td>\n",
       "      <td>...</td>\n",
       "      <td>...</td>\n",
       "      <td>...</td>\n",
       "      <td>...</td>\n",
       "      <td>...</td>\n",
       "      <td>...</td>\n",
       "      <td>...</td>\n",
       "      <td>...</td>\n",
       "      <td>...</td>\n",
       "      <td>...</td>\n",
       "      <td>...</td>\n",
       "    </tr>\n",
       "    <tr>\n",
       "      <th>5105</th>\n",
       "      <td>18234</td>\n",
       "      <td>Female</td>\n",
       "      <td>80.0</td>\n",
       "      <td>1</td>\n",
       "      <td>0</td>\n",
       "      <td>Yes</td>\n",
       "      <td>Private</td>\n",
       "      <td>Urban</td>\n",
       "      <td>83.75</td>\n",
       "      <td>NaN</td>\n",
       "      <td>never smoked</td>\n",
       "      <td>0</td>\n",
       "    </tr>\n",
       "    <tr>\n",
       "      <th>5106</th>\n",
       "      <td>44873</td>\n",
       "      <td>Female</td>\n",
       "      <td>81.0</td>\n",
       "      <td>0</td>\n",
       "      <td>0</td>\n",
       "      <td>Yes</td>\n",
       "      <td>Self-employed</td>\n",
       "      <td>Urban</td>\n",
       "      <td>125.20</td>\n",
       "      <td>40.0</td>\n",
       "      <td>never smoked</td>\n",
       "      <td>0</td>\n",
       "    </tr>\n",
       "    <tr>\n",
       "      <th>5107</th>\n",
       "      <td>19723</td>\n",
       "      <td>Female</td>\n",
       "      <td>35.0</td>\n",
       "      <td>0</td>\n",
       "      <td>0</td>\n",
       "      <td>Yes</td>\n",
       "      <td>Self-employed</td>\n",
       "      <td>Rural</td>\n",
       "      <td>82.99</td>\n",
       "      <td>30.6</td>\n",
       "      <td>never smoked</td>\n",
       "      <td>0</td>\n",
       "    </tr>\n",
       "    <tr>\n",
       "      <th>5108</th>\n",
       "      <td>37544</td>\n",
       "      <td>Male</td>\n",
       "      <td>51.0</td>\n",
       "      <td>0</td>\n",
       "      <td>0</td>\n",
       "      <td>Yes</td>\n",
       "      <td>Private</td>\n",
       "      <td>Rural</td>\n",
       "      <td>166.29</td>\n",
       "      <td>25.6</td>\n",
       "      <td>formerly smoked</td>\n",
       "      <td>0</td>\n",
       "    </tr>\n",
       "    <tr>\n",
       "      <th>5109</th>\n",
       "      <td>44679</td>\n",
       "      <td>Female</td>\n",
       "      <td>44.0</td>\n",
       "      <td>0</td>\n",
       "      <td>0</td>\n",
       "      <td>Yes</td>\n",
       "      <td>Govt_job</td>\n",
       "      <td>Urban</td>\n",
       "      <td>85.28</td>\n",
       "      <td>26.2</td>\n",
       "      <td>Unknown</td>\n",
       "      <td>0</td>\n",
       "    </tr>\n",
       "  </tbody>\n",
       "</table>\n",
       "<p>5110 rows × 12 columns</p>\n",
       "</div>"
      ],
      "text/plain": [
       "         id  gender   age  hypertension  heart_disease ever_married  \\\n",
       "0      9046    Male  67.0             0              1          Yes   \n",
       "1     51676  Female  61.0             0              0          Yes   \n",
       "2     31112    Male  80.0             0              1          Yes   \n",
       "3     60182  Female  49.0             0              0          Yes   \n",
       "4      1665  Female  79.0             1              0          Yes   \n",
       "...     ...     ...   ...           ...            ...          ...   \n",
       "5105  18234  Female  80.0             1              0          Yes   \n",
       "5106  44873  Female  81.0             0              0          Yes   \n",
       "5107  19723  Female  35.0             0              0          Yes   \n",
       "5108  37544    Male  51.0             0              0          Yes   \n",
       "5109  44679  Female  44.0             0              0          Yes   \n",
       "\n",
       "          work_type Residence_type  avg_glucose_level   bmi   smoking_status  \\\n",
       "0           Private          Urban             228.69  36.6  formerly smoked   \n",
       "1     Self-employed          Rural             202.21   NaN     never smoked   \n",
       "2           Private          Rural             105.92  32.5     never smoked   \n",
       "3           Private          Urban             171.23  34.4           smokes   \n",
       "4     Self-employed          Rural             174.12  24.0     never smoked   \n",
       "...             ...            ...                ...   ...              ...   \n",
       "5105        Private          Urban              83.75   NaN     never smoked   \n",
       "5106  Self-employed          Urban             125.20  40.0     never smoked   \n",
       "5107  Self-employed          Rural              82.99  30.6     never smoked   \n",
       "5108        Private          Rural             166.29  25.6  formerly smoked   \n",
       "5109       Govt_job          Urban              85.28  26.2          Unknown   \n",
       "\n",
       "      stroke  \n",
       "0          1  \n",
       "1          1  \n",
       "2          1  \n",
       "3          1  \n",
       "4          1  \n",
       "...      ...  \n",
       "5105       0  \n",
       "5106       0  \n",
       "5107       0  \n",
       "5108       0  \n",
       "5109       0  \n",
       "\n",
       "[5110 rows x 12 columns]"
      ]
     },
     "execution_count": 3,
     "metadata": {},
     "output_type": "execute_result"
    }
   ],
   "source": [
    "df=raw_data.copy()\n",
    "df"
   ]
  },
  {
   "cell_type": "markdown",
   "id": "ea6a3f50",
   "metadata": {},
   "source": [
    "We have 5110 instances with the 10 features and 1 output variable"
   ]
  },
  {
   "cell_type": "markdown",
   "id": "b8ab2be2",
   "metadata": {},
   "source": [
    "### Structure of dataset\n",
    "\n",
    "we now have a clean DataFrame with meaningful columns, ready for analysis.\n",
    "\n",
    "The main columns in the dataset are as follows:\n",
    "\n",
    "+ `id`: unique identifier\n",
    "\n",
    "+ `gender`: \"Male\", \"Female\" or \"Other\"\n",
    "\n",
    "+ `age`: age of the patient\n",
    "\n",
    "+ `hypertension`: 0 if the patient doesn't have hypertension, 1 if the patient has hypertension\n",
    "\n",
    "+ `heart_disease`: 0 if the patient doesn't have any heart diseases, 1 if the patient has a heart disease\n",
    "\n",
    "+ `ever_married`: \"No\" or \"Yes\"\n",
    "\n",
    "+ `work_type`: \"children\", \"Govt_jov\", \"Never_worked\", \"Private\" or \"Self-employed\"\n",
    "\n",
    "+ `Residence_type`: \"Rural\" or \"Urban\"\n",
    "\n",
    "+ `avg_glucose_level`: average glucose level in blood\n",
    "\n",
    "+ `bmi`: body mass index\n",
    "\n",
    "+ `smoking_status`: \"formerly smoked\", \"never smoked\", \"smokes\" or \"Unknown\"*\n",
    "\n",
    "+ `stroke`: 1 if the patient had a stroke or 0 if not\n",
    "\n",
    "*Note: \"Unknown\" in smoking_status means that the information is unavailable for this patient\n",
    "\n",
    "This structure allows us to perform exploratory data analysis (EDA), feature engineering, and model development effectively.\n"
   ]
  },
  {
   "cell_type": "markdown",
   "id": "cb91aa20",
   "metadata": {},
   "source": [
    "## *Summary of the dataset*"
   ]
  },
  {
   "cell_type": "markdown",
   "id": "192a3133",
   "metadata": {},
   "source": [
    "Before analyzing data, it's crucial to:\n",
    "\n",
    "+Verify proper loading – Ensure the dataset imported correctly.\n",
    "\n",
    "+Understand variables – Check data types (numeric, text, categorical) and structure.\n",
    "\n",
    "+Identify issues – Detect missing values,duplicated values, inconsistencies, or formatting errors."
   ]
  },
  {
   "cell_type": "code",
   "execution_count": 4,
   "id": "09d12d9d",
   "metadata": {},
   "outputs": [
    {
     "data": {
      "text/plain": [
       "0"
      ]
     },
     "execution_count": 4,
     "metadata": {},
     "output_type": "execute_result"
    }
   ],
   "source": [
    "# checking for duplicates\n",
    "df.duplicated().sum()"
   ]
  },
  {
   "cell_type": "markdown",
   "id": "4c057798",
   "metadata": {},
   "source": [
    "we have 0 duplicated values"
   ]
  },
  {
   "cell_type": "code",
   "execution_count": 5,
   "id": "74204092",
   "metadata": {},
   "outputs": [
    {
     "name": "stdout",
     "output_type": "stream",
     "text": [
      "<class 'pandas.core.frame.DataFrame'>\n",
      "RangeIndex: 5110 entries, 0 to 5109\n",
      "Data columns (total 12 columns):\n",
      " #   Column             Non-Null Count  Dtype  \n",
      "---  ------             --------------  -----  \n",
      " 0   id                 5110 non-null   int64  \n",
      " 1   gender             5110 non-null   object \n",
      " 2   age                5110 non-null   float64\n",
      " 3   hypertension       5110 non-null   int64  \n",
      " 4   heart_disease      5110 non-null   int64  \n",
      " 5   ever_married       5110 non-null   object \n",
      " 6   work_type          5110 non-null   object \n",
      " 7   Residence_type     5110 non-null   object \n",
      " 8   avg_glucose_level  5110 non-null   float64\n",
      " 9   bmi                4909 non-null   float64\n",
      " 10  smoking_status     5110 non-null   object \n",
      " 11  stroke             5110 non-null   int64  \n",
      "dtypes: float64(3), int64(4), object(5)\n",
      "memory usage: 479.2+ KB\n"
     ]
    }
   ],
   "source": [
    "# summary of the dataset\n",
    "df.info()"
   ]
  },
  {
   "cell_type": "markdown",
   "id": "4e06a6a8",
   "metadata": {},
   "source": [
    "+ In our dataset, we have both numerical and categorical variables. It is essential to see whether columns are correctly inferred. The most important one to look for is our target variable `stroke`\n",
    "\n",
    "+ Stroke' is detected as an integer, not as an object.\n",
    "+ Target variable is coded as 1 for positive cases (has a stroke) and 0 for negative cases (does not have a stroke)\n",
    "+ Both 'Hypertension' and 'heart disease\" are detected as an integer, not as an object. \n",
    "\n",
    "+ In addition to them, we have  categorical variables, which we have to encode as numerical."
   ]
  },
  {
   "cell_type": "code",
   "execution_count": 6,
   "id": "90162d0f",
   "metadata": {},
   "outputs": [
    {
     "data": {
      "application/vnd.microsoft.datawrangler.viewer.v0+json": {
       "columns": [
        {
         "name": "index",
         "rawType": "object",
         "type": "string"
        },
        {
         "name": "0",
         "rawType": "int64",
         "type": "integer"
        }
       ],
       "ref": "94d37fd5-85c5-4748-aeff-eee638965848",
       "rows": [
        [
         "id",
         "0"
        ],
        [
         "gender",
         "0"
        ],
        [
         "age",
         "0"
        ],
        [
         "hypertension",
         "0"
        ],
        [
         "heart_disease",
         "0"
        ],
        [
         "ever_married",
         "0"
        ],
        [
         "work_type",
         "0"
        ],
        [
         "Residence_type",
         "0"
        ],
        [
         "avg_glucose_level",
         "0"
        ],
        [
         "bmi",
         "201"
        ],
        [
         "smoking_status",
         "0"
        ],
        [
         "stroke",
         "0"
        ]
       ],
       "shape": {
        "columns": 1,
        "rows": 12
       }
      },
      "text/plain": [
       "id                     0\n",
       "gender                 0\n",
       "age                    0\n",
       "hypertension           0\n",
       "heart_disease          0\n",
       "ever_married           0\n",
       "work_type              0\n",
       "Residence_type         0\n",
       "avg_glucose_level      0\n",
       "bmi                  201\n",
       "smoking_status         0\n",
       "stroke                 0\n",
       "dtype: int64"
      ]
     },
     "execution_count": 6,
     "metadata": {},
     "output_type": "execute_result"
    }
   ],
   "source": [
    "# checking for missing values\n",
    "df.isnull().sum()"
   ]
  },
  {
   "cell_type": "markdown",
   "id": "686bff3c",
   "metadata": {},
   "source": [
    "From our results we can see that the `bmi` column contains **201** null values. To handle the missing values we decide to fill in with the mean of bmi. This preserves the dataset's size and structure while mitigating bias from missing data."
   ]
  },
  {
   "cell_type": "code",
   "execution_count": 7,
   "id": "8f194c46",
   "metadata": {},
   "outputs": [],
   "source": [
    "#handling missing values\n",
    "df['bmi'].fillna(df['bmi'].mean(), inplace=True)"
   ]
  },
  {
   "cell_type": "code",
   "execution_count": 8,
   "id": "ac1b1dfc",
   "metadata": {},
   "outputs": [
    {
     "data": {
      "application/vnd.microsoft.datawrangler.viewer.v0+json": {
       "columns": [
        {
         "name": "index",
         "rawType": "object",
         "type": "string"
        },
        {
         "name": "0",
         "rawType": "int64",
         "type": "integer"
        }
       ],
       "ref": "d8432a73-59a5-4a81-adb4-1aba35261424",
       "rows": [
        [
         "id",
         "0"
        ],
        [
         "gender",
         "0"
        ],
        [
         "age",
         "0"
        ],
        [
         "hypertension",
         "0"
        ],
        [
         "heart_disease",
         "0"
        ],
        [
         "ever_married",
         "0"
        ],
        [
         "work_type",
         "0"
        ],
        [
         "Residence_type",
         "0"
        ],
        [
         "avg_glucose_level",
         "0"
        ],
        [
         "bmi",
         "0"
        ],
        [
         "smoking_status",
         "0"
        ],
        [
         "stroke",
         "0"
        ]
       ],
       "shape": {
        "columns": 1,
        "rows": 12
       }
      },
      "text/plain": [
       "id                   0\n",
       "gender               0\n",
       "age                  0\n",
       "hypertension         0\n",
       "heart_disease        0\n",
       "ever_married         0\n",
       "work_type            0\n",
       "Residence_type       0\n",
       "avg_glucose_level    0\n",
       "bmi                  0\n",
       "smoking_status       0\n",
       "stroke               0\n",
       "dtype: int64"
      ]
     },
     "execution_count": 8,
     "metadata": {},
     "output_type": "execute_result"
    }
   ],
   "source": [
    "# checking for missing values again\n",
    "df.isnull().sum()"
   ]
  },
  {
   "cell_type": "markdown",
   "id": "074d3b08",
   "metadata": {},
   "source": [
    "Now we can see there are no missing values in any of the columns within the dataset"
   ]
  },
  {
   "cell_type": "markdown",
   "id": "b1c6e7e3",
   "metadata": {},
   "source": [
    "### *Duplicating The Clean Df For Analysis*\n",
    "\n",
    "Duplicating the cleaned DataFrame helps **preserve the original processed data**, allowing for safe experimentation and analysis without the risk of accidentally altering the clean dataset. It supports better **debugging, reproducibility**, and **data integrity** throughout the workflow.\n"
   ]
  },
  {
   "cell_type": "code",
   "execution_count": 9,
   "id": "d99603a0",
   "metadata": {},
   "outputs": [
    {
     "data": {
      "application/vnd.microsoft.datawrangler.viewer.v0+json": {
       "columns": [
        {
         "name": "index",
         "rawType": "int64",
         "type": "integer"
        },
        {
         "name": "id",
         "rawType": "int64",
         "type": "integer"
        },
        {
         "name": "gender",
         "rawType": "object",
         "type": "string"
        },
        {
         "name": "age",
         "rawType": "float64",
         "type": "float"
        },
        {
         "name": "hypertension",
         "rawType": "int64",
         "type": "integer"
        },
        {
         "name": "heart_disease",
         "rawType": "int64",
         "type": "integer"
        },
        {
         "name": "ever_married",
         "rawType": "object",
         "type": "string"
        },
        {
         "name": "work_type",
         "rawType": "object",
         "type": "string"
        },
        {
         "name": "Residence_type",
         "rawType": "object",
         "type": "string"
        },
        {
         "name": "avg_glucose_level",
         "rawType": "float64",
         "type": "float"
        },
        {
         "name": "bmi",
         "rawType": "float64",
         "type": "float"
        },
        {
         "name": "smoking_status",
         "rawType": "object",
         "type": "string"
        },
        {
         "name": "stroke",
         "rawType": "int64",
         "type": "integer"
        }
       ],
       "ref": "7e0fef49-7604-41fe-90c4-4e1a74f2e1df",
       "rows": [
        [
         "0",
         "9046",
         "Male",
         "67.0",
         "0",
         "1",
         "Yes",
         "Private",
         "Urban",
         "228.69",
         "36.6",
         "formerly smoked",
         "1"
        ],
        [
         "1",
         "51676",
         "Female",
         "61.0",
         "0",
         "0",
         "Yes",
         "Self-employed",
         "Rural",
         "202.21",
         "28.893236911794673",
         "never smoked",
         "1"
        ],
        [
         "2",
         "31112",
         "Male",
         "80.0",
         "0",
         "1",
         "Yes",
         "Private",
         "Rural",
         "105.92",
         "32.5",
         "never smoked",
         "1"
        ],
        [
         "3",
         "60182",
         "Female",
         "49.0",
         "0",
         "0",
         "Yes",
         "Private",
         "Urban",
         "171.23",
         "34.4",
         "smokes",
         "1"
        ],
        [
         "4",
         "1665",
         "Female",
         "79.0",
         "1",
         "0",
         "Yes",
         "Self-employed",
         "Rural",
         "174.12",
         "24.0",
         "never smoked",
         "1"
        ],
        [
         "5",
         "56669",
         "Male",
         "81.0",
         "0",
         "0",
         "Yes",
         "Private",
         "Urban",
         "186.21",
         "29.0",
         "formerly smoked",
         "1"
        ],
        [
         "6",
         "53882",
         "Male",
         "74.0",
         "1",
         "1",
         "Yes",
         "Private",
         "Rural",
         "70.09",
         "27.4",
         "never smoked",
         "1"
        ],
        [
         "7",
         "10434",
         "Female",
         "69.0",
         "0",
         "0",
         "No",
         "Private",
         "Urban",
         "94.39",
         "22.8",
         "never smoked",
         "1"
        ],
        [
         "8",
         "27419",
         "Female",
         "59.0",
         "0",
         "0",
         "Yes",
         "Private",
         "Rural",
         "76.15",
         "28.893236911794673",
         "Unknown",
         "1"
        ],
        [
         "9",
         "60491",
         "Female",
         "78.0",
         "0",
         "0",
         "Yes",
         "Private",
         "Urban",
         "58.57",
         "24.2",
         "Unknown",
         "1"
        ],
        [
         "10",
         "12109",
         "Female",
         "81.0",
         "1",
         "0",
         "Yes",
         "Private",
         "Rural",
         "80.43",
         "29.7",
         "never smoked",
         "1"
        ],
        [
         "11",
         "12095",
         "Female",
         "61.0",
         "0",
         "1",
         "Yes",
         "Govt_job",
         "Rural",
         "120.46",
         "36.8",
         "smokes",
         "1"
        ],
        [
         "12",
         "12175",
         "Female",
         "54.0",
         "0",
         "0",
         "Yes",
         "Private",
         "Urban",
         "104.51",
         "27.3",
         "smokes",
         "1"
        ],
        [
         "13",
         "8213",
         "Male",
         "78.0",
         "0",
         "1",
         "Yes",
         "Private",
         "Urban",
         "219.84",
         "28.893236911794673",
         "Unknown",
         "1"
        ],
        [
         "14",
         "5317",
         "Female",
         "79.0",
         "0",
         "1",
         "Yes",
         "Private",
         "Urban",
         "214.09",
         "28.2",
         "never smoked",
         "1"
        ],
        [
         "15",
         "58202",
         "Female",
         "50.0",
         "1",
         "0",
         "Yes",
         "Self-employed",
         "Rural",
         "167.41",
         "30.9",
         "never smoked",
         "1"
        ],
        [
         "16",
         "56112",
         "Male",
         "64.0",
         "0",
         "1",
         "Yes",
         "Private",
         "Urban",
         "191.61",
         "37.5",
         "smokes",
         "1"
        ],
        [
         "17",
         "34120",
         "Male",
         "75.0",
         "1",
         "0",
         "Yes",
         "Private",
         "Urban",
         "221.29",
         "25.8",
         "smokes",
         "1"
        ],
        [
         "18",
         "27458",
         "Female",
         "60.0",
         "0",
         "0",
         "No",
         "Private",
         "Urban",
         "89.22",
         "37.8",
         "never smoked",
         "1"
        ],
        [
         "19",
         "25226",
         "Male",
         "57.0",
         "0",
         "1",
         "No",
         "Govt_job",
         "Urban",
         "217.08",
         "28.893236911794673",
         "Unknown",
         "1"
        ],
        [
         "20",
         "70630",
         "Female",
         "71.0",
         "0",
         "0",
         "Yes",
         "Govt_job",
         "Rural",
         "193.94",
         "22.4",
         "smokes",
         "1"
        ],
        [
         "21",
         "13861",
         "Female",
         "52.0",
         "1",
         "0",
         "Yes",
         "Self-employed",
         "Urban",
         "233.29",
         "48.9",
         "never smoked",
         "1"
        ],
        [
         "22",
         "68794",
         "Female",
         "79.0",
         "0",
         "0",
         "Yes",
         "Self-employed",
         "Urban",
         "228.7",
         "26.6",
         "never smoked",
         "1"
        ],
        [
         "23",
         "64778",
         "Male",
         "82.0",
         "0",
         "1",
         "Yes",
         "Private",
         "Rural",
         "208.3",
         "32.5",
         "Unknown",
         "1"
        ],
        [
         "24",
         "4219",
         "Male",
         "71.0",
         "0",
         "0",
         "Yes",
         "Private",
         "Urban",
         "102.87",
         "27.2",
         "formerly smoked",
         "1"
        ],
        [
         "25",
         "70822",
         "Male",
         "80.0",
         "0",
         "0",
         "Yes",
         "Self-employed",
         "Rural",
         "104.12",
         "23.5",
         "never smoked",
         "1"
        ],
        [
         "26",
         "38047",
         "Female",
         "65.0",
         "0",
         "0",
         "Yes",
         "Private",
         "Rural",
         "100.98",
         "28.2",
         "formerly smoked",
         "1"
        ],
        [
         "27",
         "61843",
         "Male",
         "58.0",
         "0",
         "0",
         "Yes",
         "Private",
         "Rural",
         "189.84",
         "28.893236911794673",
         "Unknown",
         "1"
        ],
        [
         "28",
         "54827",
         "Male",
         "69.0",
         "0",
         "1",
         "Yes",
         "Self-employed",
         "Urban",
         "195.23",
         "28.3",
         "smokes",
         "1"
        ],
        [
         "29",
         "69160",
         "Male",
         "59.0",
         "0",
         "0",
         "Yes",
         "Private",
         "Rural",
         "211.78",
         "28.893236911794673",
         "formerly smoked",
         "1"
        ],
        [
         "30",
         "43717",
         "Male",
         "57.0",
         "1",
         "0",
         "Yes",
         "Private",
         "Urban",
         "212.08",
         "44.2",
         "smokes",
         "1"
        ],
        [
         "31",
         "33879",
         "Male",
         "42.0",
         "0",
         "0",
         "Yes",
         "Private",
         "Rural",
         "83.41",
         "25.4",
         "Unknown",
         "1"
        ],
        [
         "32",
         "39373",
         "Female",
         "82.0",
         "1",
         "0",
         "Yes",
         "Self-employed",
         "Urban",
         "196.92",
         "22.2",
         "never smoked",
         "1"
        ],
        [
         "33",
         "54401",
         "Male",
         "80.0",
         "0",
         "1",
         "Yes",
         "Self-employed",
         "Urban",
         "252.72",
         "30.5",
         "formerly smoked",
         "1"
        ],
        [
         "34",
         "14248",
         "Male",
         "48.0",
         "0",
         "0",
         "No",
         "Govt_job",
         "Urban",
         "84.2",
         "29.7",
         "never smoked",
         "1"
        ],
        [
         "35",
         "712",
         "Female",
         "82.0",
         "1",
         "1",
         "No",
         "Private",
         "Rural",
         "84.03",
         "26.5",
         "formerly smoked",
         "1"
        ],
        [
         "36",
         "47269",
         "Male",
         "74.0",
         "0",
         "0",
         "Yes",
         "Private",
         "Rural",
         "219.72",
         "33.7",
         "formerly smoked",
         "1"
        ],
        [
         "37",
         "24977",
         "Female",
         "72.0",
         "1",
         "0",
         "Yes",
         "Private",
         "Rural",
         "74.63",
         "23.1",
         "formerly smoked",
         "1"
        ],
        [
         "38",
         "47306",
         "Male",
         "58.0",
         "0",
         "0",
         "No",
         "Private",
         "Rural",
         "92.62",
         "32.0",
         "Unknown",
         "1"
        ],
        [
         "39",
         "62602",
         "Female",
         "49.0",
         "0",
         "0",
         "Yes",
         "Private",
         "Urban",
         "60.91",
         "29.9",
         "never smoked",
         "1"
        ],
        [
         "40",
         "4651",
         "Male",
         "78.0",
         "0",
         "0",
         "Yes",
         "Private",
         "Rural",
         "78.03",
         "23.9",
         "formerly smoked",
         "1"
        ],
        [
         "41",
         "1261",
         "Male",
         "54.0",
         "0",
         "0",
         "Yes",
         "Private",
         "Urban",
         "71.22",
         "28.5",
         "never smoked",
         "1"
        ],
        [
         "42",
         "61960",
         "Male",
         "82.0",
         "0",
         "1",
         "Yes",
         "Private",
         "Urban",
         "144.9",
         "26.4",
         "smokes",
         "1"
        ],
        [
         "43",
         "1845",
         "Female",
         "63.0",
         "0",
         "0",
         "Yes",
         "Private",
         "Urban",
         "90.9",
         "28.893236911794673",
         "formerly smoked",
         "1"
        ],
        [
         "44",
         "7937",
         "Male",
         "60.0",
         "1",
         "0",
         "Yes",
         "Govt_job",
         "Urban",
         "213.03",
         "20.2",
         "smokes",
         "1"
        ],
        [
         "45",
         "19824",
         "Male",
         "76.0",
         "1",
         "0",
         "Yes",
         "Private",
         "Rural",
         "243.58",
         "33.6",
         "never smoked",
         "1"
        ],
        [
         "46",
         "37937",
         "Female",
         "75.0",
         "0",
         "1",
         "No",
         "Self-employed",
         "Urban",
         "109.78",
         "28.893236911794673",
         "Unknown",
         "1"
        ],
        [
         "47",
         "47472",
         "Female",
         "58.0",
         "0",
         "0",
         "Yes",
         "Private",
         "Urban",
         "107.26",
         "38.6",
         "formerly smoked",
         "1"
        ],
        [
         "48",
         "35626",
         "Male",
         "81.0",
         "0",
         "0",
         "Yes",
         "Self-employed",
         "Urban",
         "99.33",
         "33.7",
         "never smoked",
         "1"
        ],
        [
         "49",
         "36338",
         "Female",
         "39.0",
         "1",
         "0",
         "Yes",
         "Private",
         "Rural",
         "58.09",
         "39.2",
         "smokes",
         "1"
        ]
       ],
       "shape": {
        "columns": 12,
        "rows": 5110
       }
      },
      "text/html": [
       "<div>\n",
       "<style scoped>\n",
       "    .dataframe tbody tr th:only-of-type {\n",
       "        vertical-align: middle;\n",
       "    }\n",
       "\n",
       "    .dataframe tbody tr th {\n",
       "        vertical-align: top;\n",
       "    }\n",
       "\n",
       "    .dataframe thead th {\n",
       "        text-align: right;\n",
       "    }\n",
       "</style>\n",
       "<table border=\"1\" class=\"dataframe\">\n",
       "  <thead>\n",
       "    <tr style=\"text-align: right;\">\n",
       "      <th></th>\n",
       "      <th>id</th>\n",
       "      <th>gender</th>\n",
       "      <th>age</th>\n",
       "      <th>hypertension</th>\n",
       "      <th>heart_disease</th>\n",
       "      <th>ever_married</th>\n",
       "      <th>work_type</th>\n",
       "      <th>Residence_type</th>\n",
       "      <th>avg_glucose_level</th>\n",
       "      <th>bmi</th>\n",
       "      <th>smoking_status</th>\n",
       "      <th>stroke</th>\n",
       "    </tr>\n",
       "  </thead>\n",
       "  <tbody>\n",
       "    <tr>\n",
       "      <th>0</th>\n",
       "      <td>9046</td>\n",
       "      <td>Male</td>\n",
       "      <td>67.0</td>\n",
       "      <td>0</td>\n",
       "      <td>1</td>\n",
       "      <td>Yes</td>\n",
       "      <td>Private</td>\n",
       "      <td>Urban</td>\n",
       "      <td>228.69</td>\n",
       "      <td>36.600000</td>\n",
       "      <td>formerly smoked</td>\n",
       "      <td>1</td>\n",
       "    </tr>\n",
       "    <tr>\n",
       "      <th>1</th>\n",
       "      <td>51676</td>\n",
       "      <td>Female</td>\n",
       "      <td>61.0</td>\n",
       "      <td>0</td>\n",
       "      <td>0</td>\n",
       "      <td>Yes</td>\n",
       "      <td>Self-employed</td>\n",
       "      <td>Rural</td>\n",
       "      <td>202.21</td>\n",
       "      <td>28.893237</td>\n",
       "      <td>never smoked</td>\n",
       "      <td>1</td>\n",
       "    </tr>\n",
       "    <tr>\n",
       "      <th>2</th>\n",
       "      <td>31112</td>\n",
       "      <td>Male</td>\n",
       "      <td>80.0</td>\n",
       "      <td>0</td>\n",
       "      <td>1</td>\n",
       "      <td>Yes</td>\n",
       "      <td>Private</td>\n",
       "      <td>Rural</td>\n",
       "      <td>105.92</td>\n",
       "      <td>32.500000</td>\n",
       "      <td>never smoked</td>\n",
       "      <td>1</td>\n",
       "    </tr>\n",
       "    <tr>\n",
       "      <th>3</th>\n",
       "      <td>60182</td>\n",
       "      <td>Female</td>\n",
       "      <td>49.0</td>\n",
       "      <td>0</td>\n",
       "      <td>0</td>\n",
       "      <td>Yes</td>\n",
       "      <td>Private</td>\n",
       "      <td>Urban</td>\n",
       "      <td>171.23</td>\n",
       "      <td>34.400000</td>\n",
       "      <td>smokes</td>\n",
       "      <td>1</td>\n",
       "    </tr>\n",
       "    <tr>\n",
       "      <th>4</th>\n",
       "      <td>1665</td>\n",
       "      <td>Female</td>\n",
       "      <td>79.0</td>\n",
       "      <td>1</td>\n",
       "      <td>0</td>\n",
       "      <td>Yes</td>\n",
       "      <td>Self-employed</td>\n",
       "      <td>Rural</td>\n",
       "      <td>174.12</td>\n",
       "      <td>24.000000</td>\n",
       "      <td>never smoked</td>\n",
       "      <td>1</td>\n",
       "    </tr>\n",
       "    <tr>\n",
       "      <th>...</th>\n",
       "      <td>...</td>\n",
       "      <td>...</td>\n",
       "      <td>...</td>\n",
       "      <td>...</td>\n",
       "      <td>...</td>\n",
       "      <td>...</td>\n",
       "      <td>...</td>\n",
       "      <td>...</td>\n",
       "      <td>...</td>\n",
       "      <td>...</td>\n",
       "      <td>...</td>\n",
       "      <td>...</td>\n",
       "    </tr>\n",
       "    <tr>\n",
       "      <th>5105</th>\n",
       "      <td>18234</td>\n",
       "      <td>Female</td>\n",
       "      <td>80.0</td>\n",
       "      <td>1</td>\n",
       "      <td>0</td>\n",
       "      <td>Yes</td>\n",
       "      <td>Private</td>\n",
       "      <td>Urban</td>\n",
       "      <td>83.75</td>\n",
       "      <td>28.893237</td>\n",
       "      <td>never smoked</td>\n",
       "      <td>0</td>\n",
       "    </tr>\n",
       "    <tr>\n",
       "      <th>5106</th>\n",
       "      <td>44873</td>\n",
       "      <td>Female</td>\n",
       "      <td>81.0</td>\n",
       "      <td>0</td>\n",
       "      <td>0</td>\n",
       "      <td>Yes</td>\n",
       "      <td>Self-employed</td>\n",
       "      <td>Urban</td>\n",
       "      <td>125.20</td>\n",
       "      <td>40.000000</td>\n",
       "      <td>never smoked</td>\n",
       "      <td>0</td>\n",
       "    </tr>\n",
       "    <tr>\n",
       "      <th>5107</th>\n",
       "      <td>19723</td>\n",
       "      <td>Female</td>\n",
       "      <td>35.0</td>\n",
       "      <td>0</td>\n",
       "      <td>0</td>\n",
       "      <td>Yes</td>\n",
       "      <td>Self-employed</td>\n",
       "      <td>Rural</td>\n",
       "      <td>82.99</td>\n",
       "      <td>30.600000</td>\n",
       "      <td>never smoked</td>\n",
       "      <td>0</td>\n",
       "    </tr>\n",
       "    <tr>\n",
       "      <th>5108</th>\n",
       "      <td>37544</td>\n",
       "      <td>Male</td>\n",
       "      <td>51.0</td>\n",
       "      <td>0</td>\n",
       "      <td>0</td>\n",
       "      <td>Yes</td>\n",
       "      <td>Private</td>\n",
       "      <td>Rural</td>\n",
       "      <td>166.29</td>\n",
       "      <td>25.600000</td>\n",
       "      <td>formerly smoked</td>\n",
       "      <td>0</td>\n",
       "    </tr>\n",
       "    <tr>\n",
       "      <th>5109</th>\n",
       "      <td>44679</td>\n",
       "      <td>Female</td>\n",
       "      <td>44.0</td>\n",
       "      <td>0</td>\n",
       "      <td>0</td>\n",
       "      <td>Yes</td>\n",
       "      <td>Govt_job</td>\n",
       "      <td>Urban</td>\n",
       "      <td>85.28</td>\n",
       "      <td>26.200000</td>\n",
       "      <td>Unknown</td>\n",
       "      <td>0</td>\n",
       "    </tr>\n",
       "  </tbody>\n",
       "</table>\n",
       "<p>5110 rows × 12 columns</p>\n",
       "</div>"
      ],
      "text/plain": [
       "         id  gender   age  hypertension  heart_disease ever_married  \\\n",
       "0      9046    Male  67.0             0              1          Yes   \n",
       "1     51676  Female  61.0             0              0          Yes   \n",
       "2     31112    Male  80.0             0              1          Yes   \n",
       "3     60182  Female  49.0             0              0          Yes   \n",
       "4      1665  Female  79.0             1              0          Yes   \n",
       "...     ...     ...   ...           ...            ...          ...   \n",
       "5105  18234  Female  80.0             1              0          Yes   \n",
       "5106  44873  Female  81.0             0              0          Yes   \n",
       "5107  19723  Female  35.0             0              0          Yes   \n",
       "5108  37544    Male  51.0             0              0          Yes   \n",
       "5109  44679  Female  44.0             0              0          Yes   \n",
       "\n",
       "          work_type Residence_type  avg_glucose_level        bmi  \\\n",
       "0           Private          Urban             228.69  36.600000   \n",
       "1     Self-employed          Rural             202.21  28.893237   \n",
       "2           Private          Rural             105.92  32.500000   \n",
       "3           Private          Urban             171.23  34.400000   \n",
       "4     Self-employed          Rural             174.12  24.000000   \n",
       "...             ...            ...                ...        ...   \n",
       "5105        Private          Urban              83.75  28.893237   \n",
       "5106  Self-employed          Urban             125.20  40.000000   \n",
       "5107  Self-employed          Rural              82.99  30.600000   \n",
       "5108        Private          Rural             166.29  25.600000   \n",
       "5109       Govt_job          Urban              85.28  26.200000   \n",
       "\n",
       "       smoking_status  stroke  \n",
       "0     formerly smoked       1  \n",
       "1        never smoked       1  \n",
       "2        never smoked       1  \n",
       "3              smokes       1  \n",
       "4        never smoked       1  \n",
       "...               ...     ...  \n",
       "5105     never smoked       0  \n",
       "5106     never smoked       0  \n",
       "5107     never smoked       0  \n",
       "5108  formerly smoked       0  \n",
       "5109          Unknown       0  \n",
       "\n",
       "[5110 rows x 12 columns]"
      ]
     },
     "execution_count": 9,
     "metadata": {},
     "output_type": "execute_result"
    }
   ],
   "source": [
    "df_clean = df.copy()\n",
    "df_clean"
   ]
  },
  {
   "cell_type": "markdown",
   "id": "a322f061",
   "metadata": {},
   "source": [
    "## **Exploratory Data Analysis**\n"
   ]
  },
  {
   "cell_type": "markdown",
   "id": "4c0814b2",
   "metadata": {},
   "source": [
    "#### **Target Variable**"
   ]
  },
  {
   "cell_type": "markdown",
   "id": "04f1f8a1",
   "metadata": {},
   "source": [
    "+ One of the first steps of EDA is to always look at what the values of y look like."
   ]
  },
  {
   "cell_type": "code",
   "execution_count": 10,
   "id": "653f296d",
   "metadata": {},
   "outputs": [
    {
     "name": "stdout",
     "output_type": "stream",
     "text": [
      "Percentage of patient had a stroke: % 4.87 --> (249 patient)\n",
      "Percentage of patient did not have a stroke: % 95.13 --> (4861 patient)\n"
     ]
    }
   ],
   "source": [
    "y = df_clean['stroke']\n",
    "print(f'Percentage of patient had a stroke: % {round(y.value_counts(normalize=True)[1]*100,2)} --> ({y.value_counts()[1]} patient)\\nPercentage of patient did not have a stroke: % {round(y.value_counts(normalize=True)[0]*100,2)} --> ({y.value_counts()[0]} patient)')"
   ]
  },
  {
   "cell_type": "markdown",
   "id": "68c54c0d",
   "metadata": {},
   "source": [
    "+ We have imbalanced data because the distribution of our target variable is heavily skewed. Approximately 95% of the instances (4,861 patients) correspond to 'No stroke', while only 5% (249 patients) represent actual stroke cases.\n",
    "\n",
    "+ This severe class imbalance means our dataset contains significantly fewer positive cases ('Stroke') compared to negative cases ('No stroke'), which can lead to biased model performance if not properly addressed"
   ]
  },
  {
   "cell_type": "markdown",
   "id": "b40549c7",
   "metadata": {},
   "source": []
  },
  {
   "cell_type": "code",
   "execution_count": 11,
   "id": "9846234c",
   "metadata": {},
   "outputs": [
    {
     "data": {
      "image/png": "[encoded data removed]",
      "text/plain": [
       "<Figure size 360x360 with 1 Axes>"
      ]
     },
     "metadata": {
      "needs_background": "light"
     },
     "output_type": "display_data"
    }
   ],
   "source": [
    "# plotting the distribution of the target variable 'stroke'\n",
    "\n",
    "plt.figure(figsize=(5, 5))\n",
    "plt.hist(df_clean['stroke'], bins=2,color='orange', edgecolor='black')\n",
    "plt.title('Stroke')\n",
    "plt.xlabel('Stroke (0 = No, 1 = Yes)')\n",
    "plt.ylabel('Count')\n",
    "plt.xticks([0, 1])\n",
    "plt.show()"
   ]
  },
  {
   "cell_type": "markdown",
   "id": "1371c5f8",
   "metadata": {},
   "source": [
    "+ Due to this imbalanced data deciding what metric to use is important.\n",
    "+ For this binary classification problem, the Area Under the ROC Curve (AUC) serves as the most reliable evaluation metric, as it accounts for both false positives and false negatives across all classification thresholds. While precision and recall offer valuable insights individually, AUC effectively synthesizes these measures into a single score\n",
    "\n",
    "+ To ensure our model generalizes well despite the data skew, we’ll employ StratifiedKFold for cross-validation. This method preserves the original class distribution in each fold, preventing bias toward the majority class during training the data and testing"
   ]
  },
  {
   "cell_type": "markdown",
   "id": "03589bf3",
   "metadata": {},
   "source": [
    "## **univariable Analysis**\n"
   ]
  },
  {
   "cell_type": "markdown",
   "id": "67ba2a49",
   "metadata": {},
   "source": [
    "#### Defining Categorical and Numerical Data"
   ]
  },
  {
   "cell_type": "code",
   "execution_count": 12,
   "id": "090213a0",
   "metadata": {},
   "outputs": [],
   "source": [
    "# separating the categorical and numerical variables\n",
    "categorical = ['gender', 'hypertension', 'heart_disease', 'ever_married',\n",
    "'work_type', 'Residence_type', 'smoking_status']\n",
    "\n",
    "numerical = ['age','avg_glucose_level', 'bmi']"
   ]
  },
  {
   "cell_type": "code",
   "execution_count": 13,
   "id": "d5adcf56",
   "metadata": {},
   "outputs": [
    {
     "data": {
      "application/vnd.microsoft.datawrangler.viewer.v0+json": {
       "columns": [
        {
         "name": "index",
         "rawType": "object",
         "type": "string"
        },
        {
         "name": "age",
         "rawType": "float64",
         "type": "float"
        },
        {
         "name": "avg_glucose_level",
         "rawType": "float64",
         "type": "float"
        },
        {
         "name": "bmi",
         "rawType": "float64",
         "type": "float"
        }
       ],
       "ref": "2d209d38-bab4-4f0a-8451-09cc4246d360",
       "rows": [
        [
         "count",
         "5110.0",
         "5110.0",
         "5110.0"
        ],
        [
         "mean",
         "43.226614481409015",
         "106.14767710371804",
         "28.89323691179472"
        ],
        [
         "std",
         "22.61264672311352",
         "45.28356015058203",
         "7.698017826857077"
        ],
        [
         "min",
         "0.08",
         "55.12",
         "10.3"
        ],
        [
         "25%",
         "25.0",
         "77.245",
         "23.8"
        ],
        [
         "50%",
         "45.0",
         "91.88499999999999",
         "28.4"
        ],
        [
         "75%",
         "61.0",
         "114.09",
         "32.8"
        ],
        [
         "max",
         "82.0",
         "271.74",
         "97.6"
        ]
       ],
       "shape": {
        "columns": 3,
        "rows": 8
       }
      },
      "text/html": [
       "<div>\n",
       "<style scoped>\n",
       "    .dataframe tbody tr th:only-of-type {\n",
       "        vertical-align: middle;\n",
       "    }\n",
       "\n",
       "    .dataframe tbody tr th {\n",
       "        vertical-align: top;\n",
       "    }\n",
       "\n",
       "    .dataframe thead th {\n",
       "        text-align: right;\n",
       "    }\n",
       "</style>\n",
       "<table border=\"1\" class=\"dataframe\">\n",
       "  <thead>\n",
       "    <tr style=\"text-align: right;\">\n",
       "      <th></th>\n",
       "      <th>age</th>\n",
       "      <th>avg_glucose_level</th>\n",
       "      <th>bmi</th>\n",
       "    </tr>\n",
       "  </thead>\n",
       "  <tbody>\n",
       "    <tr>\n",
       "      <th>count</th>\n",
       "      <td>5110.000000</td>\n",
       "      <td>5110.000000</td>\n",
       "      <td>5110.000000</td>\n",
       "    </tr>\n",
       "    <tr>\n",
       "      <th>mean</th>\n",
       "      <td>43.226614</td>\n",
       "      <td>106.147677</td>\n",
       "      <td>28.893237</td>\n",
       "    </tr>\n",
       "    <tr>\n",
       "      <th>std</th>\n",
       "      <td>22.612647</td>\n",
       "      <td>45.283560</td>\n",
       "      <td>7.698018</td>\n",
       "    </tr>\n",
       "    <tr>\n",
       "      <th>min</th>\n",
       "      <td>0.080000</td>\n",
       "      <td>55.120000</td>\n",
       "      <td>10.300000</td>\n",
       "    </tr>\n",
       "    <tr>\n",
       "      <th>25%</th>\n",
       "      <td>25.000000</td>\n",
       "      <td>77.245000</td>\n",
       "      <td>23.800000</td>\n",
       "    </tr>\n",
       "    <tr>\n",
       "      <th>50%</th>\n",
       "      <td>45.000000</td>\n",
       "      <td>91.885000</td>\n",
       "      <td>28.400000</td>\n",
       "    </tr>\n",
       "    <tr>\n",
       "      <th>75%</th>\n",
       "      <td>61.000000</td>\n",
       "      <td>114.090000</td>\n",
       "      <td>32.800000</td>\n",
       "    </tr>\n",
       "    <tr>\n",
       "      <th>max</th>\n",
       "      <td>82.000000</td>\n",
       "      <td>271.740000</td>\n",
       "      <td>97.600000</td>\n",
       "    </tr>\n",
       "  </tbody>\n",
       "</table>\n",
       "</div>"
      ],
      "text/plain": [
       "               age  avg_glucose_level          bmi\n",
       "count  5110.000000        5110.000000  5110.000000\n",
       "mean     43.226614         106.147677    28.893237\n",
       "std      22.612647          45.283560     7.698018\n",
       "min       0.080000          55.120000    10.300000\n",
       "25%      25.000000          77.245000    23.800000\n",
       "50%      45.000000          91.885000    28.400000\n",
       "75%      61.000000         114.090000    32.800000\n",
       "max      82.000000         271.740000    97.600000"
      ]
     },
     "execution_count": 13,
     "metadata": {},
     "output_type": "execute_result"
    }
   ],
   "source": [
    "# statistical summary of the numerical variables\n",
    "df_clean[numerical].describe()"
   ]
  },
  {
   "cell_type": "markdown",
   "id": "07bfc507",
   "metadata": {},
   "source": [
    "Our dataset contains three numerical features, each measured on different scales, requiring careful analysis of their distributions. The comparison between mean and median values reveals distinct skewness patterns across these features:\n",
    "\n",
    "+ `Age` shows a slight left skew, suggesting a longer tail toward younger ages.\n",
    "\n",
    "+ `BMI` exhibits a mild right skew, indicating some higher outliers pulling the average upward.\n",
    "\n",
    "+ `Average Glucose Level` demonstrates a pronounced right skew, revealing many lower values with a few extreme high measurements."
   ]
  },
  {
   "cell_type": "markdown",
   "id": "295e6318",
   "metadata": {},
   "source": [
    "### skewness"
   ]
  },
  {
   "cell_type": "code",
   "execution_count": 14,
   "id": "6110f22d",
   "metadata": {},
   "outputs": [
    {
     "data": {
      "application/vnd.microsoft.datawrangler.viewer.v0+json": {
       "columns": [
        {
         "name": "index",
         "rawType": "object",
         "type": "string"
        },
        {
         "name": "0",
         "rawType": "float64",
         "type": "float"
        }
       ],
       "ref": "3ffc838d-429c-4956-83d8-c9d710dc2bae",
       "rows": [
        [
         "age",
         "-0.1370593225984694"
        ],
        [
         "avg_glucose_level",
         "1.5722838665030459"
        ],
        [
         "bmi",
         "1.0767160713842094"
        ]
       ],
       "shape": {
        "columns": 1,
        "rows": 3
       }
      },
      "text/plain": [
       "age                 -0.137059\n",
       "avg_glucose_level    1.572284\n",
       "bmi                  1.076716\n",
       "dtype: float64"
      ]
     },
     "execution_count": 14,
     "metadata": {},
     "output_type": "execute_result"
    }
   ],
   "source": [
    "# checking for degree of skewness in numerical variables\n",
    "df_clean[numerical].skew()"
   ]
  },
  {
   "cell_type": "markdown",
   "id": "de07ad4a",
   "metadata": {},
   "source": [
    "+ Based on the result, age has slight left skew, other two features have right tail, positively skewed shape distribution."
   ]
  },
  {
   "cell_type": "code",
   "execution_count": 15,
   "id": "00116013",
   "metadata": {},
   "outputs": [
    {
     "data": {
      "image/png": "[encoded data removed]",
      "text/plain": [
       "<Figure size 576x504 with 4 Axes>"
      ]
     },
     "metadata": {
      "needs_background": "light"
     },
     "output_type": "display_data"
    }
   ],
   "source": [
    "#visualization of the distribution of numerical variables\n",
    "df_clean[numerical].hist(figsize=(8,7));"
   ]
  },
  {
   "cell_type": "markdown",
   "id": "85b735d6",
   "metadata": {},
   "source": [
    "+ Both the skewness metrics and histogram visualizations confirm that our numerical features exhibit varying degrees of skewness. The age feature displays a left-skewed distribution, while BMI and average glucose level show right-skewed patterns with differing intensities. \n",
    "+ Additionally, these features operate on different measurement scales, which could negatively impact model performance if left unaddressed.\n",
    "\n",
    "+ To properly handle these challenges during modeling, we will apply standardization using StandardScaler."
   ]
  },
  {
   "cell_type": "markdown",
   "id": "28d975a5",
   "metadata": {},
   "source": [
    "#### categorical Data\n",
    "\n",
    "Univariable analysis"
   ]
  },
  {
   "cell_type": "markdown",
   "id": "cdafdce0",
   "metadata": {},
   "source": [
    "**Gender**"
   ]
  },
  {
   "cell_type": "code",
   "execution_count": 16,
   "id": "ed5fc9ca",
   "metadata": {},
   "outputs": [
    {
     "name": "stdout",
     "output_type": "stream",
     "text": [
      "Female    58.59\n",
      "Male      41.39\n",
      "Other      0.02\n",
      "Name: gender, dtype: float64\n"
     ]
    },
    {
     "data": {
      "image/png": "[encoded data removed]",
      "text/plain": [
       "<Figure size 360x360 with 1 Axes>"
      ]
     },
     "metadata": {
      "needs_background": "light"
     },
     "output_type": "display_data"
    }
   ],
   "source": [
    "print(f'{round(df[\"gender\"].value_counts(normalize=True)*100,2)}')\n",
    "\n",
    "plt.figure(figsize=(5, 5))\n",
    "plt.bar(df['gender'].value_counts().index, df['gender'].value_counts(), color='orange', edgecolor='black')\n",
    "plt.title('Gender')\n",
    "plt.xlabel('Gender')\n",
    "plt.ylabel('Count')\n",
    "plt.show()"
   ]
  },
  {
   "cell_type": "markdown",
   "id": "b717fb3b",
   "metadata": {},
   "source": [
    "We have 2994 female and 2115 male and 1 other gender people."
   ]
  },
  {
   "cell_type": "markdown",
   "id": "ef90c189",
   "metadata": {},
   "source": [
    "#### Hypertension"
   ]
  },
  {
   "cell_type": "code",
   "execution_count": 17,
   "id": "81a94656",
   "metadata": {},
   "outputs": [
    {
     "name": "stdout",
     "output_type": "stream",
     "text": [
      "0    90.25\n",
      "1     9.75\n",
      "Name: hypertension, dtype: float64\n"
     ]
    },
    {
     "data": {
      "image/png": "[encoded data removed]",
      "text/plain": [
       "<Figure size 360x360 with 1 Axes>"
      ]
     },
     "metadata": {
      "needs_background": "light"
     },
     "output_type": "display_data"
    }
   ],
   "source": [
    "print(f'{round(df[\"hypertension\"].value_counts(normalize=True)*100,2)}')\n",
    "\n",
    "plt.figure(figsize=(5, 5))\n",
    "plt.bar(df['hypertension'].value_counts().index, df['hypertension'].value_counts(), color='orange', edgecolor='black')\n",
    "plt.title('hypertension')\n",
    "plt.xlabel('hypertension (0 = No, 1 = Yes)')\n",
    "plt.ylabel(' Patient Count')\n",
    "plt.show()"
   ]
  },
  {
   "cell_type": "markdown",
   "id": "3d0eafa8",
   "metadata": {},
   "source": [
    " We have 498 patient with hypertension which represents at raound 10 % of the sample."
   ]
  },
  {
   "cell_type": "markdown",
   "id": "82faad8f",
   "metadata": {},
   "source": [
    "#### Heart Disease"
   ]
  },
  {
   "cell_type": "code",
   "execution_count": 18,
   "id": "51179a93",
   "metadata": {},
   "outputs": [
    {
     "name": "stdout",
     "output_type": "stream",
     "text": [
      "0    94.6\n",
      "1     5.4\n",
      "Name: heart_disease, dtype: float64\n"
     ]
    },
    {
     "data": {
      "image/png": "[encoded data removed]",
      "text/plain": [
       "<Figure size 360x360 with 1 Axes>"
      ]
     },
     "metadata": {
      "needs_background": "light"
     },
     "output_type": "display_data"
    }
   ],
   "source": [
    "print(f'{round(df[\"heart_disease\"].value_counts(normalize=True)*100,2)}')\n",
    "\n",
    "plt.figure(figsize=(5, 5))\n",
    "plt.bar(df['heart_disease'].value_counts().index, df['heart_disease'].value_counts(), color='orange', edgecolor='black')\n",
    "plt.title('Number of people with heart disease')\n",
    "plt.xlabel('Heart Disease (0 = No, 1 = Yes)')\n",
    "plt.ylabel('Count')\n",
    "plt.show()"
   ]
  },
  {
   "cell_type": "markdown",
   "id": "054b6223",
   "metadata": {},
   "source": [
    "We have 276 patient with heart disease which is 5.4 % of the sample"
   ]
  },
  {
   "cell_type": "markdown",
   "id": "b2919ebc",
   "metadata": {},
   "source": [
    "#### Married"
   ]
  },
  {
   "cell_type": "code",
   "execution_count": 19,
   "id": "fceeebe4",
   "metadata": {},
   "outputs": [
    {
     "name": "stdout",
     "output_type": "stream",
     "text": [
      "Yes    3353\n",
      "No     1757\n",
      "Name: ever_married, dtype: int64\n"
     ]
    }
   ],
   "source": [
    "# number of married and unmarried people\n",
    "print(df[\"ever_married\"].value_counts())"
   ]
  },
  {
   "cell_type": "markdown",
   "id": "e5ffc496",
   "metadata": {},
   "source": [
    "3353 people have been married and 1757 people are not married before."
   ]
  },
  {
   "cell_type": "markdown",
   "id": "d8612c79",
   "metadata": {},
   "source": [
    "#### Work Type"
   ]
  },
  {
   "cell_type": "code",
   "execution_count": 20,
   "id": "3eeba06c",
   "metadata": {},
   "outputs": [
    {
     "name": "stdout",
     "output_type": "stream",
     "text": [
      "Private          57.24\n",
      "Self-employed    16.03\n",
      "children         13.44\n",
      "Govt_job         12.86\n",
      "Never_worked      0.43\n",
      "Name: work_type, dtype: float64\n"
     ]
    }
   ],
   "source": [
    "# percentage of different work types\n",
    "print(f'{round(df[\"work_type\"].value_counts(normalize=True)*100,2)}')"
   ]
  },
  {
   "cell_type": "code",
   "execution_count": 21,
   "id": "4ab8b77d",
   "metadata": {},
   "outputs": [
    {
     "data": {
      "image/png": "[encoded data removed]",
      "text/plain": [
       "<Figure size 720x360 with 1 Axes>"
      ]
     },
     "metadata": {
      "needs_background": "light"
     },
     "output_type": "display_data"
    }
   ],
   "source": [
    "# visualization of the work type\n",
    "plt.figure(figsize=(10, 5))\n",
    "sns.countplot(x='work_type', data=df)\n",
    "plt.title('Work Type')\n",
    "plt.xlabel('Work Type')\n",
    "plt.ylabel('Count')\n",
    "plt.show()"
   ]
  },
  {
   "cell_type": "markdown",
   "id": "a472a95e",
   "metadata": {},
   "source": [
    "- 2925 people work in the private sector.\n",
    "- 819 people are self-employed\n",
    "- 657 people work at the government job.\n"
   ]
  },
  {
   "cell_type": "markdown",
   "id": "dda06430",
   "metadata": {},
   "source": [
    "#### Smoking\n"
   ]
  },
  {
   "cell_type": "code",
   "execution_count": 22,
   "id": "ae262a61",
   "metadata": {},
   "outputs": [
    {
     "name": "stdout",
     "output_type": "stream",
     "text": [
      "never smoked       37.03\n",
      "Unknown            30.22\n",
      "formerly smoked    17.32\n",
      "smokes             15.44\n",
      "Name: smoking_status, dtype: float64\n"
     ]
    },
    {
     "data": {
      "image/png": "[encoded data removed]",
      "text/plain": [
       "<Figure size 720x360 with 1 Axes>"
      ]
     },
     "metadata": {
      "needs_background": "light"
     },
     "output_type": "display_data"
    }
   ],
   "source": [
    "# percentage of the different groups of smoking status\n",
    "print(f'{round(df[\"smoking_status\"].value_counts(normalize=True)*100,2)}')\n",
    "\n",
    "# visualization of the smoking status\n",
    "plt.figure(figsize=(10, 5))\n",
    "sns.countplot(x='smoking_status', data=df)\n",
    "plt.title('Smoking Status')\n",
    "plt.xlabel('Smoking Status')\n",
    "plt.ylabel('Count')\n",
    "plt.show()"
   ]
  },
  {
   "cell_type": "markdown",
   "id": "2d1909be",
   "metadata": {},
   "source": [
    "1892 people have never smoked while 789 people smoke"
   ]
  },
  {
   "cell_type": "markdown",
   "id": "6bfff1e7",
   "metadata": {},
   "source": [
    "### **Bivariable Analysis**\n",
    "This will compare the target variable (stroke ) to the different predictor variables generating bar graphs for each"
   ]
  },
  {
   "cell_type": "markdown",
   "id": "3ebb7bc2",
   "metadata": {},
   "source": [
    "#### 1) Hypertension and Stoke"
   ]
  },
  {
   "cell_type": "code",
   "execution_count": 23,
   "id": "9f62b95c",
   "metadata": {},
   "outputs": [
    {
     "name": "stdout",
     "output_type": "stream",
     "text": [
      "A person with hypertension has a probability of 13.25 % get a stroke\n",
      "\n",
      "A person without hypertension has a probability of  3.97 % get a stroke\n"
     ]
    },
    {
     "data": {
      "image/png": "[encoded data removed]",
      "text/plain": [
       "<Figure size 720x360 with 1 Axes>"
      ]
     },
     "metadata": {
      "needs_background": "light"
     },
     "output_type": "display_data"
    }
   ],
   "source": [
    "# percentage of patients with stroke and without based on hypertension\n",
    "print (f'A person with hypertension has a probability of {round(df_clean[df_clean[\"hypertension\"]==1][\"stroke\"].mean()*100,2)} % get a stroke')\n",
    "\n",
    "print()\n",
    "\n",
    "print (f'A person without hypertension has a probability of  {round(df_clean[df_clean[\"hypertension\"]==0][\"stroke\"].mean()*100,2)} % get a stroke')\n",
    "\n",
    "#visualization of the relationship between hypertension and stroke\n",
    "plt.figure(figsize=(10, 5))\n",
    "sns.countplot(x='hypertension', hue='stroke', data=df_clean)\n",
    "plt.title('Hypertension vs Stroke')\n",
    "plt.xlabel('Hypertension (0 = No, 1 = Yes)')\n",
    "plt.ylabel('Count')\n",
    "plt.legend(title='Stroke', loc='upper right', labels=['No Stroke', 'Stroke'])\n",
    "plt.show()\n"
   ]
  },
  {
   "cell_type": "markdown",
   "id": "ec941601",
   "metadata": {},
   "source": [
    " This means a person with hypertension are almost 3.3 time more likely to get stroke than the ones who don't have hypertension"
   ]
  },
  {
   "cell_type": "markdown",
   "id": "55193959",
   "metadata": {},
   "source": [
    "#### 2) Gender and Stroke"
   ]
  },
  {
   "cell_type": "code",
   "execution_count": 24,
   "id": "39e0652e",
   "metadata": {},
   "outputs": [
    {
     "name": "stdout",
     "output_type": "stream",
     "text": [
      "A female person has a probability of 4.71 % get a stroke\n",
      "\n",
      "A male person has a probability of 5.11 % get a stroke\n",
      "\n"
     ]
    },
    {
     "data": {
      "image/png": "[encoded data removed]",
      "text/plain": [
       "<Figure size 720x360 with 1 Axes>"
      ]
     },
     "metadata": {
      "needs_background": "light"
     },
     "output_type": "display_data"
    }
   ],
   "source": [
    "print (f'A female person has a probability of {round(df_clean[df_clean[\"gender\"]==\"Female\"][\"stroke\"].mean()*100,2)} % get a stroke')\n",
    "print()\n",
    "\n",
    "print (f'A male person has a probability of {round(df_clean[df_clean[\"gender\"]==\"Male\"][\"stroke\"].mean()*100,2)} % get a stroke')\n",
    "print()\n",
    "\n",
    "# visualization of the relationship between gender and stroke\n",
    "plt.figure(figsize=(10, 5))\n",
    "sns.countplot(x='gender',hue='stroke', data=df_clean)\n",
    "plt.title('Gender vs Stroke')\n",
    "plt.xlabel('Gender')\n",
    "plt.ylabel('Count')\n",
    "plt.legend(title='Stroke', loc='upper right', labels=['No Stroke', 'Stroke'])\n",
    "plt.show()"
   ]
  },
  {
   "cell_type": "markdown",
   "id": "4f7af365",
   "metadata": {},
   "source": [
    "From the analysis it looks like men have a highly higher chance of getting a stroke than women"
   ]
  },
  {
   "cell_type": "markdown",
   "id": "b76436c1",
   "metadata": {},
   "source": [
    "#### 3) Heart Disease and Stroke"
   ]
  },
  {
   "cell_type": "code",
   "execution_count": 25,
   "id": "b8625b34",
   "metadata": {},
   "outputs": [
    {
     "name": "stdout",
     "output_type": "stream",
     "text": [
      "A person with heart disease has a probability of 17.03 % to get a stroke\n",
      "\n",
      " A person with no heart disease has a probability of4.18 % to get a stroke\n",
      "\n"
     ]
    },
    {
     "data": {
      "image/png": "[encoded data removed]",
      "text/plain": [
       "<Figure size 720x360 with 1 Axes>"
      ]
     },
     "metadata": {
      "needs_background": "light"
     },
     "output_type": "display_data"
    }
   ],
   "source": [
    "print (f'A person with heart disease has a probability of {round(df_clean[df_clean[\"heart_disease\"]==1][\"stroke\"].mean()*100,2)} % to get a stroke')\n",
    "print()\n",
    "\n",
    "print (f' A person with no heart disease has a probability of{round(df_clean[df_clean[\"heart_disease\"]==0][\"stroke\"].mean()*100,2)} % to get a stroke')\n",
    "print()\n",
    "\n",
    "# visualization of the relationship between Heart disease and stroke\n",
    "plt.figure(figsize=(10, 5))\n",
    "sns.countplot(x='heart_disease', hue='stroke', data=df_clean)\n",
    "plt.title('heart disease vs Stroke')\n",
    "plt.xlabel('Heart disease')\n",
    "plt.ylabel('Count')\n",
    "plt.legend(title='Stroke', loc='upper right', labels=['No Stroke', 'Stroke'])\n",
    "plt.show()"
   ]
  },
  {
   "cell_type": "markdown",
   "id": "8ce2ed6e",
   "metadata": {},
   "source": [
    "A person with heart disease has almost sn over 5 times chance of getting stroke(17.03%) over a person without (4.18 %)"
   ]
  },
  {
   "cell_type": "markdown",
   "id": "ba978d97",
   "metadata": {},
   "source": [
    "#### 4) Marriage and Stroke\n"
   ]
  },
  {
   "cell_type": "code",
   "execution_count": 26,
   "id": "718113e8",
   "metadata": {},
   "outputs": [
    {
     "name": "stdout",
     "output_type": "stream",
     "text": [
      "A person married (or married before) has a probability of 6.56 % get a stroke\n",
      "\n",
      "A person never married has a probability of 1.65 % get a stroke\n",
      "\n"
     ]
    },
    {
     "data": {
      "image/png": "[encoded data removed]",
      "text/plain": [
       "<Figure size 720x360 with 1 Axes>"
      ]
     },
     "metadata": {
      "needs_background": "light"
     },
     "output_type": "display_data"
    }
   ],
   "source": [
    "# checking the relationship between marriage and stroke\n",
    "print (f'A person married (or married before) has a probability of {round(df_clean[df_clean[\"ever_married\"]==\"Yes\"][\"stroke\"].mean()*100,2)} % get a stroke')\n",
    "print()\n",
    "\n",
    "print (f'A person never married has a probability of {round(df_clean[df_clean[\"ever_married\"]==\"No\"][\"stroke\"].mean()*100,2)} % get a stroke')\n",
    "print()\n",
    "\n",
    "# visualizations\n",
    "plt.figure(figsize=(10, 5))\n",
    "sns.countplot(x='ever_married',hue='stroke', data=df_clean)\n",
    "plt.title('Marriage vs Stroke')\n",
    "plt.xlabel('Ever Married')\n",
    "plt.ylabel('Count')\n",
    "plt.legend(title='Stroke', loc='upper right', labels=['No Stroke', 'Stroke'])\n",
    "plt.show()\n"
   ]
  },
  {
   "cell_type": "markdown",
   "metadata": {},
   "source": [
    "From the graph the risk of aquiring a stroke if married or ever married is 6.56% while the risk in non married people is 1.65%.\n",
    "\n",
    "this is a 5.7 times difference!"
   ]
  },
  {
   "cell_type": "markdown",
   "id": "5ff6e161",
   "metadata": {},
   "source": [
    "#### 5) Work Type and Stroke\n"
   ]
  },
  {
   "cell_type": "code",
   "execution_count": 27,
   "id": "62446b99",
   "metadata": {},
   "outputs": [
    {
     "name": "stdout",
     "output_type": "stream",
     "text": [
      "A person with private work type has a probability of 5.09 % get a stroke\n",
      "\n",
      "Self-employed person has a probability of 7.94 % get a stroke\n",
      "\n",
      "A person with a goverment job has a probability of 5.02 % get a stroke\n",
      "\n",
      "A child has a probability of 0.29 % get a stroke\n",
      "\n",
      "A person never worked has a probability of 0.0 % get a stroke\n"
     ]
    }
   ],
   "source": [
    "# relationship between the work one does and stroke\n",
    "print (f'A person with private work type has a probability of {round(df_clean[df_clean[\"work_type\"]==\"Private\"][\"stroke\"].mean()*100,2)} % get a stroke')\n",
    "print()\n",
    "\n",
    "print (f'Self-employed person has a probability of {round(df_clean[df_clean[\"work_type\"]==\"Self-employed\"][\"stroke\"].mean()*100,2)} % get a stroke')\n",
    "print()\n",
    "\n",
    "print (f'A person with a goverment job has a probability of {round(df_clean[df_clean[\"work_type\"]==\"Govt_job\"][\"stroke\"].mean()*100,2)} % get a stroke')\n",
    "print()\n",
    "\n",
    "print (f'A child has a probability of {round(df_clean[df_clean[\"work_type\"]==\"children\"][\"stroke\"].mean()*100,2)} % get a stroke')\n",
    "print()\n",
    "\n",
    "print (f'A person never worked has a probability of {round(df_clean[df_clean[\"work_type\"]==\"Never_worked\"][\"stroke\"].mean()*100,2)} % get a stroke')"
   ]
  },
  {
   "cell_type": "code",
   "execution_count": 28,
   "id": "e392b33e",
   "metadata": {},
   "outputs": [
    {
     "data": {
      "image/png": "[encoded data removed]",
      "text/plain": [
       "<Figure size 720x360 with 1 Axes>"
      ]
     },
     "metadata": {
      "needs_background": "light"
     },
     "output_type": "display_data"
    }
   ],
   "source": [
    "# visualizations\n",
    "plt.figure(figsize=(10, 5))\n",
    "sns.countplot(x='work_type', hue='stroke', data=df_clean)\n",
    "plt.title('Work Type vs Stroke')\n",
    "plt.xlabel('Work Type')\n",
    "plt.ylabel('Count')\n",
    "plt.legend(title='Stroke', loc='upper right', labels=['No Stroke', 'Stroke'])\n",
    "plt.show()"
   ]
  },
  {
   "cell_type": "markdown",
   "id": "1e316253",
   "metadata": {},
   "source": [
    "+ Self-employed individuals face the highest risk at 7.94%, nearly 1.6× higher than private sector (5.09%) and government employees (5.02%), whose risks are remarkably similar.\n",
    "+ Children show minimal risk (0.29%), while the dataset records 0.0% stroke incidence for those who never worked—though this likely reflects limited sample size.\n",
    "\n",
    "+ These trends highlight how occupational factors—possibly stress levels, healthcare access, or work environments may influence stroke likelihood, "
   ]
  },
  {
   "cell_type": "markdown",
   "id": "a16498e3",
   "metadata": {},
   "source": [
    "#### 6) Smoking and Stroke"
   ]
  },
  {
   "cell_type": "code",
   "execution_count": 29,
   "id": "4e2ae266",
   "metadata": {},
   "outputs": [
    {
     "name": "stdout",
     "output_type": "stream",
     "text": [
      "A formerly smoked person has a probability of 7.91 % get a stroke\n",
      "\n",
      "A person never smoked has a probability of 4.76 % get a stroke\n",
      "\n",
      "A person smokes has a probability of 5.32 % get a stroke\n",
      "\n",
      "A person whom smoking history is not known,has a probability of 3.04 % get a stroke\n",
      "\n"
     ]
    },
    {
     "data": {
      "image/png": "[encoded data removed]",
      "text/plain": [
       "<Figure size 720x360 with 1 Axes>"
      ]
     },
     "metadata": {
      "needs_background": "light"
     },
     "output_type": "display_data"
    }
   ],
   "source": [
    "print (f'A formerly smoked person has a probability of {round(df_clean[df_clean[\"smoking_status\"]==\"formerly smoked\"][\"stroke\"].mean()*100,2)} % get a stroke')\n",
    "print()\n",
    "\n",
    "print (f'A person never smoked has a probability of {round(df_clean[df_clean[\"smoking_status\"]==\"never smoked\"][\"stroke\"].mean()*100,2)} % get a stroke')\n",
    "print()\n",
    "\n",
    "print (f'A person smokes has a probability of {round(df_clean[df_clean[\"smoking_status\"]==\"smokes\"][\"stroke\"].mean()*100,2)} % get a stroke')\n",
    "print()\n",
    "\n",
    "print (f'A person whom smoking history is not known,has a probability of {round(df_clean[df_clean[\"smoking_status\"]==\"Unknown\"][\"stroke\"].mean()*100,2)} % get a stroke')\n",
    "print()\n",
    "\n",
    "# Visualization of the relationship between smoking status and stroke\n",
    "plt.figure(figsize=(10, 5))\n",
    "sns.countplot(x='smoking_status', hue='stroke', data=df_clean)\n",
    "plt.title('Smoking Status vs Stroke')\n",
    "plt.xlabel('Smoking Status')\n",
    "plt.ylabel('Count')\n",
    "plt.legend(title='Stroke', loc='upper right', labels=['No Stroke', 'Stroke'])\n",
    "plt.show()"
   ]
  },
  {
   "cell_type": "markdown",
   "id": "f8487aa1",
   "metadata": {},
   "source": [
    "Quitting smoking doesn't immediately reduce stroke risk - former smokers remain the most vulnerable group\n",
    "\n",
    "Current smoking increases risk by about 12% compared to never-smokers\n",
    "\n",
    "The unknown group's low rate may suggest missing data rather than actual protection"
   ]
  },
  {
   "cell_type": "markdown",
   "id": "389f0498",
   "metadata": {},
   "source": [
    "#### 7) Residence type and Stroke\n"
   ]
  },
  {
   "cell_type": "code",
   "execution_count": 30,
   "id": "b48cfcb8",
   "metadata": {},
   "outputs": [
    {
     "name": "stdout",
     "output_type": "stream",
     "text": [
      "A person, who lives in urban area, has a probability of 5.2 %  get a stroke\n",
      "\n",
      "A person, who lives in rural area, has a probability of 4.53 % get a stroke\n",
      "\n"
     ]
    },
    {
     "data": {
      "image/png": "[encoded data removed]",
      "text/plain": [
       "<Figure size 720x360 with 1 Axes>"
      ]
     },
     "metadata": {
      "needs_background": "light"
     },
     "output_type": "display_data"
    }
   ],
   "source": [
    "print (f'A person, who lives in urban area, has a probability of {round(df_clean[df_clean[\"Residence_type\"]==\"Urban\"][\"stroke\"].mean()*100,2)} %  get a stroke')\n",
    "\n",
    "print()\n",
    "\n",
    "print (f'A person, who lives in rural area, has a probability of {round(df_clean[df_clean[\"Residence_type\"]==\"Rural\"][\"stroke\"].mean()*100,2)} % get a stroke')\n",
    "print()\n",
    "\n",
    "# Visualization of the relationship between Residence type and stroke\n",
    "plt.figure(figsize=(10, 5))\n",
    "sns.countplot(x='Residence_type', hue='stroke', data=df_clean)\n",
    "plt.title('Residence Type vs Stroke')\n",
    "plt.xlabel('Residence Type')\n",
    "plt.ylabel('Count')\n",
    "plt.legend(title='Stroke', loc='upper right', labels=['No Stroke', 'Stroke'])\n",
    "plt.show()"
   ]
  },
  {
   "cell_type": "markdown",
   "id": "dcd91145",
   "metadata": {},
   "source": [
    "Urban residents have a slightly higher stroke risk (5.2%) than rural residents (4.53%), suggesting environmental or lifestyle factors may play a role"
   ]
  },
  {
   "cell_type": "markdown",
   "id": "2804d76e",
   "metadata": {},
   "source": [
    "### Does age exhibit a nonlinear relationship with stroke risk"
   ]
  },
  {
   "cell_type": "code",
   "execution_count": 31,
   "id": "e5968360",
   "metadata": {},
   "outputs": [
    {
     "data": {
      "image/png": "[encoded data removed]",
      "text/plain": [
       "<Figure size 576x360 with 1 Axes>"
      ]
     },
     "metadata": {
      "needs_background": "light"
     },
     "output_type": "display_data"
    }
   ],
   "source": [
    "# Create age bins\n",
    "bins = [0, 20, 40, 60, 80, 100]\n",
    "labels = ['0-20', '21-40', '41-60', '61-80', '81+']\n",
    "df_clean['age_group'] = pd.cut(df['age'], bins=bins, labels=labels, right=False)\n",
    "\n",
    "# Group by age bin and calculate stroke rate\n",
    "stroke_by_age = df_clean.groupby('age_group')['stroke'].mean().reset_index()\n",
    "\n",
    "# Plot\n",
    "plt.figure(figsize=(8, 5))\n",
    "sns.barplot(data=stroke_by_age, x='age_group', y='stroke')\n",
    "plt.title('Stroke Rate by Age Group')\n",
    "plt.ylabel('Proportion with Stroke')\n",
    "plt.xlabel('Age Group')\n",
    "plt.ylim(0, stroke_by_age['stroke'].max() + 0.02)\n",
    "plt.grid(True, axis='y')\n",
    "plt.tight_layout()\n",
    "plt.show()"
   ]
  },
  {
   "cell_type": "markdown",
   "id": "72f41d1d",
   "metadata": {},
   "source": [
    "+ Age exhibits a nonlinear relationship with stroke risk.  \n",
    "+ As shown in the bar chart, the risk of stroke is very low for younger age groups and increases slowly at first. However, after age 60, the risk rises much more sharply, especially for those over 80. This means the increase in stroke risk is not steady or straight—it accelerates as people get older."
   ]
  },
  {
   "cell_type": "code",
   "execution_count": 32,
   "id": "9217103c",
   "metadata": {},
   "outputs": [],
   "source": [
    "# Create new features\n",
    "df_clean['bmi_category'] = pd.cut(df_clean['bmi'], \n",
    "                                bins=[0, 18.5, 25, 30, 100],\n",
    "                                labels=['underweight', 'normal', 'overweight', 'obese'])\n",
    "\n",
    "df_clean['glucose_category'] = pd.cut(df_clean['avg_glucose_level'],\n",
    "                                    bins=[0, 70, 99, 125, 200, 300],\n",
    "                                    labels=['low', 'normal', 'prediabetes', 'diabetes', 'severe'])\n",
    "\n",
    "df_clean['age_group'] = pd.cut(df_clean['age'],\n",
    "                             bins=[0, 30, 45, 60, 100],\n",
    "                             labels=['young', 'middle', 'senior', 'elderly'])"
   ]
  },
  {
   "cell_type": "code",
   "execution_count": 33,
   "id": "278d7cb7",
   "metadata": {},
   "outputs": [
    {
     "data": {
      "application/vnd.microsoft.datawrangler.viewer.v0+json": {
       "columns": [
        {
         "name": "index",
         "rawType": "object",
         "type": "string"
        },
        {
         "name": "id",
         "rawType": "float64",
         "type": "float"
        },
        {
         "name": "age",
         "rawType": "float64",
         "type": "float"
        },
        {
         "name": "hypertension",
         "rawType": "float64",
         "type": "float"
        },
        {
         "name": "heart_disease",
         "rawType": "float64",
         "type": "float"
        },
        {
         "name": "avg_glucose_level",
         "rawType": "float64",
         "type": "float"
        },
        {
         "name": "bmi",
         "rawType": "float64",
         "type": "float"
        },
        {
         "name": "stroke",
         "rawType": "float64",
         "type": "float"
        }
       ],
       "ref": "5ed0d721-250a-4147-a3f0-4fbe458be9f3",
       "rows": [
        [
         "id",
         "1.0",
         "0.0035380650422437493",
         "0.003549614713938955",
         "-0.0012959409194148422",
         "0.0010923550575069499",
         "0.0029989253180260464",
         "0.006388170005146087"
        ],
        [
         "age",
         "0.0035380650422437493",
         "1.0",
         "0.27639762763497583",
         "0.2637959156046759",
         "0.2381711141017428",
         "0.32594247317361036",
         "0.24525734617097422"
        ],
        [
         "hypertension",
         "0.003549614713938955",
         "0.27639762763497583",
         "1.0",
         "0.10830607646089001",
         "0.17447381058363234",
         "0.1601888436118173",
         "0.12790382346648013"
        ],
        [
         "heart_disease",
         "-0.0012959409194148422",
         "0.2637959156046759",
         "0.10830607646089001",
         "1.0",
         "0.16185733226966803",
         "0.03889871478896846",
         "0.13491399696869258"
        ],
        [
         "avg_glucose_level",
         "0.0010923550575069499",
         "0.2381711141017428",
         "0.17447381058363234",
         "0.16185733226966803",
         "1.0",
         "0.16875135122604035",
         "0.13194544082570953"
        ],
        [
         "bmi",
         "0.0029989253180260464",
         "0.32594247317361036",
         "0.1601888436118173",
         "0.03889871478896846",
         "0.16875135122604035",
         "1.0",
         "0.03894659651201996"
        ],
        [
         "stroke",
         "0.006388170005146087",
         "0.24525734617097422",
         "0.12790382346648013",
         "0.13491399696869258",
         "0.13194544082570953",
         "0.03894659651201996",
         "1.0"
        ]
       ],
       "shape": {
        "columns": 7,
        "rows": 7
       }
      },
      "text/html": [
       "<div>\n",
       "<style scoped>\n",
       "    .dataframe tbody tr th:only-of-type {\n",
       "        vertical-align: middle;\n",
       "    }\n",
       "\n",
       "    .dataframe tbody tr th {\n",
       "        vertical-align: top;\n",
       "    }\n",
       "\n",
       "    .dataframe thead th {\n",
       "        text-align: right;\n",
       "    }\n",
       "</style>\n",
       "<table border=\"1\" class=\"dataframe\">\n",
       "  <thead>\n",
       "    <tr style=\"text-align: right;\">\n",
       "      <th></th>\n",
       "      <th>id</th>\n",
       "      <th>age</th>\n",
       "      <th>hypertension</th>\n",
       "      <th>heart_disease</th>\n",
       "      <th>avg_glucose_level</th>\n",
       "      <th>bmi</th>\n",
       "      <th>stroke</th>\n",
       "    </tr>\n",
       "  </thead>\n",
       "  <tbody>\n",
       "    <tr>\n",
       "      <th>id</th>\n",
       "      <td>1.000000</td>\n",
       "      <td>0.003538</td>\n",
       "      <td>0.003550</td>\n",
       "      <td>-0.001296</td>\n",
       "      <td>0.001092</td>\n",
       "      <td>0.002999</td>\n",
       "      <td>0.006388</td>\n",
       "    </tr>\n",
       "    <tr>\n",
       "      <th>age</th>\n",
       "      <td>0.003538</td>\n",
       "      <td>1.000000</td>\n",
       "      <td>0.276398</td>\n",
       "      <td>0.263796</td>\n",
       "      <td>0.238171</td>\n",
       "      <td>0.325942</td>\n",
       "      <td>0.245257</td>\n",
       "    </tr>\n",
       "    <tr>\n",
       "      <th>hypertension</th>\n",
       "      <td>0.003550</td>\n",
       "      <td>0.276398</td>\n",
       "      <td>1.000000</td>\n",
       "      <td>0.108306</td>\n",
       "      <td>0.174474</td>\n",
       "      <td>0.160189</td>\n",
       "      <td>0.127904</td>\n",
       "    </tr>\n",
       "    <tr>\n",
       "      <th>heart_disease</th>\n",
       "      <td>-0.001296</td>\n",
       "      <td>0.263796</td>\n",
       "      <td>0.108306</td>\n",
       "      <td>1.000000</td>\n",
       "      <td>0.161857</td>\n",
       "      <td>0.038899</td>\n",
       "      <td>0.134914</td>\n",
       "    </tr>\n",
       "    <tr>\n",
       "      <th>avg_glucose_level</th>\n",
       "      <td>0.001092</td>\n",
       "      <td>0.238171</td>\n",
       "      <td>0.174474</td>\n",
       "      <td>0.161857</td>\n",
       "      <td>1.000000</td>\n",
       "      <td>0.168751</td>\n",
       "      <td>0.131945</td>\n",
       "    </tr>\n",
       "    <tr>\n",
       "      <th>bmi</th>\n",
       "      <td>0.002999</td>\n",
       "      <td>0.325942</td>\n",
       "      <td>0.160189</td>\n",
       "      <td>0.038899</td>\n",
       "      <td>0.168751</td>\n",
       "      <td>1.000000</td>\n",
       "      <td>0.038947</td>\n",
       "    </tr>\n",
       "    <tr>\n",
       "      <th>stroke</th>\n",
       "      <td>0.006388</td>\n",
       "      <td>0.245257</td>\n",
       "      <td>0.127904</td>\n",
       "      <td>0.134914</td>\n",
       "      <td>0.131945</td>\n",
       "      <td>0.038947</td>\n",
       "      <td>1.000000</td>\n",
       "    </tr>\n",
       "  </tbody>\n",
       "</table>\n",
       "</div>"
      ],
      "text/plain": [
       "                         id       age  hypertension  heart_disease  \\\n",
       "id                 1.000000  0.003538      0.003550      -0.001296   \n",
       "age                0.003538  1.000000      0.276398       0.263796   \n",
       "hypertension       0.003550  0.276398      1.000000       0.108306   \n",
       "heart_disease     -0.001296  0.263796      0.108306       1.000000   \n",
       "avg_glucose_level  0.001092  0.238171      0.174474       0.161857   \n",
       "bmi                0.002999  0.325942      0.160189       0.038899   \n",
       "stroke             0.006388  0.245257      0.127904       0.134914   \n",
       "\n",
       "                   avg_glucose_level       bmi    stroke  \n",
       "id                          0.001092  0.002999  0.006388  \n",
       "age                         0.238171  0.325942  0.245257  \n",
       "hypertension                0.174474  0.160189  0.127904  \n",
       "heart_disease               0.161857  0.038899  0.134914  \n",
       "avg_glucose_level           1.000000  0.168751  0.131945  \n",
       "bmi                         0.168751  1.000000  0.038947  \n",
       "stroke                      0.131945  0.038947  1.000000  "
      ]
     },
     "execution_count": 33,
     "metadata": {},
     "output_type": "execute_result"
    },
    {
     "data": {
      "image/png": "[encoded data removed]",
      "text/plain": [
       "<Figure size 1080x720 with 2 Axes>"
      ]
     },
     "metadata": {
      "needs_background": "light"
     },
     "output_type": "display_data"
    }
   ],
   "source": [
    "# plotting a correlation matrix\n",
    "correlation_matrix=df_clean.corr()\n",
    "plt.figure(figsize=(15,10))\n",
    "sns.heatmap(correlation_matrix,annot=True,cmap=\"coolwarm\",linewidths=0.5,fmt='2f')\n",
    "correlation_matrix"
   ]
  },
  {
   "cell_type": "code",
   "execution_count": 129,
   "id": "2b6827ae",
   "metadata": {},
   "outputs": [
    {
     "data": {
      "application/vnd.microsoft.datawrangler.viewer.v0+json": {
       "columns": [
        {
         "name": "index",
         "rawType": "int64",
         "type": "integer"
        },
        {
         "name": "stroke",
         "rawType": "int64",
         "type": "integer"
        }
       ],
       "ref": "0e617b2b-df59-4848-bc47-e3805cdff782",
       "rows": [
        [
         "0",
         "4860"
        ],
        [
         "1",
         "249"
        ]
       ],
       "shape": {
        "columns": 1,
        "rows": 2
       }
      },
      "text/plain": [
       "0    4860\n",
       "1     249\n",
       "Name: stroke, dtype: int64"
      ]
     },
     "execution_count": 129,
     "metadata": {},
     "output_type": "execute_result"
    }
   ],
   "source": [
    "y. value_counts()\n",
    "\n",
    "\n"
   ]
  },
  {
   "cell_type": "markdown",
   "id": "80c6d3ae",
   "metadata": {},
   "source": [
    "# Data Pre-processing\n"
   ]
  },
  {
   "cell_type": "markdown",
   "id": "e7f498f4",
   "metadata": {},
   "source": [
    "Before any pre- processing is done A new copy of the `df_clean` is created calling it `df_process` to prevent messing up with the original and enabling going back to it incase a problem arises"
   ]
  },
  {
   "cell_type": "code",
   "execution_count": 34,
   "id": "31430cd7",
   "metadata": {},
   "outputs": [],
   "source": [
    "df_process = df_clean.copy()"
   ]
  },
  {
   "cell_type": "markdown",
   "id": "62bbe1a3",
   "metadata": {},
   "source": [
    "#### Encodeing Binary and Categorical columns for modelling use"
   ]
  },
  {
   "cell_type": "code",
   "execution_count": 35,
   "id": "0923f2dd",
   "metadata": {},
   "outputs": [],
   "source": [
    "# converting 'age' to numeric and handling '81+' case\n",
    "df_process['age'] = df_process['age'].astype(str).str.strip().replace('81+', 81).astype(float)\n",
    "\n",
    "# Manual binary encoding for applicable binary categorical variables\n",
    "binary_mappings = {\n",
    "    'ever_married': {'No': 0, 'Yes': 1},\n",
    "    'Residence_type': {'Rural': 0, 'Urban': 1},\n",
    "    'gender': {'Male': 0, 'Female': 1}\n",
    "}\n",
    "\n",
    "for col, mapping in binary_mappings.items():\n",
    "    df_process[col] = df_process [col].map(mapping)\n",
    "\n",
    "# Filter out rare categories (e.g., 'Other' gender)\n",
    "df_process = df_process[df_process['gender'].isin([0, 1])]\n"
   ]
  },
  {
   "cell_type": "code",
   "execution_count": 36,
   "id": "2e925d2d",
   "metadata": {},
   "outputs": [
    {
     "name": "stdout",
     "output_type": "stream",
     "text": [
      "id                      int64\n",
      "gender                float64\n",
      "age                   float64\n",
      "hypertension            int64\n",
      "heart_disease           int64\n",
      "ever_married            int64\n",
      "work_type              object\n",
      "Residence_type          int64\n",
      "avg_glucose_level     float64\n",
      "bmi                   float64\n",
      "smoking_status         object\n",
      "stroke                  int64\n",
      "age_group            category\n",
      "bmi_category         category\n",
      "glucose_category     category\n",
      "dtype: object\n"
     ]
    }
   ],
   "source": [
    "print(df_process.dtypes)"
   ]
  },
  {
   "cell_type": "code",
   "execution_count": 37,
   "id": "1a19b8c2",
   "metadata": {},
   "outputs": [],
   "source": [
    "# Save preprocessed data\n",
    "df_process.to_csv(\"healthcare-dataset-stroke-data-processed.csv\", index=False)"
   ]
  },
  {
   "cell_type": "markdown",
   "id": "348ebc75",
   "metadata": {},
   "source": [
    "### **defining features and the target**"
   ]
  },
  {
   "cell_type": "code",
   "execution_count": 38,
   "id": "7850fded",
   "metadata": {},
   "outputs": [],
   "source": [
    "X = df_process.drop(columns=['stroke','id'])\n",
    "y = df_process['stroke']"
   ]
  },
  {
   "cell_type": "markdown",
   "id": "994a6769",
   "metadata": {},
   "source": [
    "### **Train-Test Split**"
   ]
  },
  {
   "cell_type": "markdown",
   "id": "3888ebec",
   "metadata": {},
   "source": [
    "The data is split into 2 categories: Training data and Test data. The training set is used to train the model, while the testing set is reserved to evaluate how well the model generalizes to unseen data.\n",
    "\n",
    "We split the data into 80 training and 20 for testing the model\n",
    "\n",
    "the split is stratified to preserve class imbalance"
   ]
  },
  {
   "cell_type": "code",
   "execution_count": 39,
   "id": "6bed112f",
   "metadata": {},
   "outputs": [],
   "source": [
    "X = df_process.drop(['stroke', 'id'], axis=1)  # drop ID and target\n",
    "y = df_process['stroke']\n",
    "\n",
    "X_train, X_test, y_train, y_test = train_test_split(\n",
    "    X, y, test_size=0.2, stratify=y, random_state=42)\n"
   ]
  },
  {
   "cell_type": "markdown",
   "id": "3dfb4d5e",
   "metadata": {},
   "source": [
    "### **categorizing and one hot encoding columns**"
   ]
  },
  {
   "cell_type": "code",
   "execution_count": 40,
   "id": "ee8885ee",
   "metadata": {},
   "outputs": [],
   "source": [
    "# Define numeric and categorical features\n",
    "numeric_features = ['age', 'avg_glucose_level', 'bmi']\n",
    "categorical_features = ['gender', 'hypertension', 'heart_disease', 'ever_married', \n",
    "                       'work_type', 'Residence_type', 'smoking_status',\n",
    "                       'bmi_category', 'glucose_category', 'age_group']"
   ]
  },
  {
   "cell_type": "code",
   "execution_count": 41,
   "id": "232726e8",
   "metadata": {},
   "outputs": [],
   "source": [
    "# Create transformers\n",
    "numeric_transformer = Pipeline(steps=[\n",
    "    ('scaler', StandardScaler())])\n",
    "\n",
    "categorical_transformer = Pipeline(steps=[\n",
    "    ('onehot', OneHotEncoder(handle_unknown='ignore'))])\n",
    "\n",
    "# Combine transformers\n",
    "preprocessor = ColumnTransformer(\n",
    "    transformers=[\n",
    "        ('num', numeric_transformer, numeric_features),\n",
    "        ('cat', categorical_transformer, categorical_features)])"
   ]
  },
  {
   "cell_type": "code",
   "execution_count": 42,
   "id": "d551dd51",
   "metadata": {},
   "outputs": [],
   "source": [
    "X_train_preprocessed = preprocessor.fit_transform(X_train)\n",
    "X_test_preprocessed = preprocessor.transform(X_test)\n",
    "\n",
    "encoded_cat_names = preprocessor.named_transformers_['cat']['onehot'].get_feature_names_out(categorical_features)\n",
    "all_feature_names = numeric_features + list(encoded_cat_names)\n",
    "\n",
    "# Turn it into a DataFrame for readability (optional)\n",
    "X_train_df = pd.DataFrame(X_train_preprocessed, columns=all_feature_names)\n",
    "X_test_df = pd.DataFrame(X_test_preprocessed, columns=all_feature_names)"
   ]
  },
  {
   "cell_type": "markdown",
   "id": "522b6539",
   "metadata": {},
   "source": [
    "The `ColumnTransformer` in scikit-learn is a very useful tool that lets you apply different preprocessing steps to different columns of your dataset"
   ]
  },
  {
   "cell_type": "markdown",
   "id": "16f118fa",
   "metadata": {},
   "source": [
    "### **Applying SMOTE**\n",
    "\n",
    "SMOTE stands for Synthetic Minority Over-sampling Technique. It’s a technique used in machine learning to fix class imbalance in a dataset by creating synthetic (fake) samples of the minority class."
   ]
  },
  {
   "cell_type": "code",
   "execution_count": null,
   "id": "d78289ef",
   "metadata": {},
   "outputs": [],
   "source": [
    "smote = SMOTE(random_state=42)\n",
    "X_train_res, y_train_res = smote.fit_resample(\n",
    "    preprocessor.fit_transform(X_train), y_train)\n"
   ]
  },
  {
   "cell_type": "markdown",
   "id": "077c5c71",
   "metadata": {},
   "source": [
    "# Modelling"
   ]
  },
  {
   "cell_type": "markdown",
   "id": "d7b0efac",
   "metadata": {},
   "source": [
    "### Baseline logistic regression model"
   ]
  },
  {
   "cell_type": "markdown",
   "id": "a6cce294",
   "metadata": {},
   "source": [
    "We use the baseline model as an inferential tool to assess the overall significance of the model, as well as the statistical significance and impact of individual features.\n",
    "\n"
   ]
  },
  {
   "cell_type": "code",
   "execution_count": 58,
   "id": "5ed9c638",
   "metadata": {},
   "outputs": [
    {
     "data": {
      "text/html": [
       "<style>#sk-container-id-3 {color: black;}#sk-container-id-3 pre{padding: 0;}#sk-container-id-3 div.sk-toggleable {background-color: white;}#sk-container-id-3 label.sk-toggleable__label {cursor: pointer;display: block;width: 100%;margin-bottom: 0;padding: 0.3em;box-sizing: border-box;text-align: center;}#sk-container-id-3 label.sk-toggleable__label-arrow:before {content: \"▸\";float: left;margin-right: 0.25em;color: #696969;}#sk-container-id-3 label.sk-toggleable__label-arrow:hover:before {color: black;}#sk-container-id-3 div.sk-estimator:hover label.sk-toggleable__label-arrow:before {color: black;}#sk-container-id-3 div.sk-toggleable__content {max-height: 0;max-width: 0;overflow: hidden;text-align: left;background-color: #f0f8ff;}#sk-container-id-3 div.sk-toggleable__content pre {margin: 0.2em;color: black;border-radius: 0.25em;background-color: #f0f8ff;}#sk-container-id-3 input.sk-toggleable__control:checked~div.sk-toggleable__content {max-height: 200px;max-width: 100%;overflow: auto;}#sk-container-id-3 input.sk-toggleable__control:checked~label.sk-toggleable__label-arrow:before {content: \"▾\";}#sk-container-id-3 div.sk-estimator input.sk-toggleable__control:checked~label.sk-toggleable__label {background-color: #d4ebff;}#sk-container-id-3 div.sk-label input.sk-toggleable__control:checked~label.sk-toggleable__label {background-color: #d4ebff;}#sk-container-id-3 input.sk-hidden--visually {border: 0;clip: rect(1px 1px 1px 1px);clip: rect(1px, 1px, 1px, 1px);height: 1px;margin: -1px;overflow: hidden;padding: 0;position: absolute;width: 1px;}#sk-container-id-3 div.sk-estimator {font-family: monospace;background-color: #f0f8ff;border: 1px dotted black;border-radius: 0.25em;box-sizing: border-box;margin-bottom: 0.5em;}#sk-container-id-3 div.sk-estimator:hover {background-color: #d4ebff;}#sk-container-id-3 div.sk-parallel-item::after {content: \"\";width: 100%;border-bottom: 1px solid gray;flex-grow: 1;}#sk-container-id-3 div.sk-label:hover label.sk-toggleable__label {background-color: #d4ebff;}#sk-container-id-3 div.sk-serial::before {content: \"\";position: absolute;border-left: 1px solid gray;box-sizing: border-box;top: 0;bottom: 0;left: 50%;z-index: 0;}#sk-container-id-3 div.sk-serial {display: flex;flex-direction: column;align-items: center;background-color: white;padding-right: 0.2em;padding-left: 0.2em;position: relative;}#sk-container-id-3 div.sk-item {position: relative;z-index: 1;}#sk-container-id-3 div.sk-parallel {display: flex;align-items: stretch;justify-content: center;background-color: white;position: relative;}#sk-container-id-3 div.sk-item::before, #sk-container-id-3 div.sk-parallel-item::before {content: \"\";position: absolute;border-left: 1px solid gray;box-sizing: border-box;top: 0;bottom: 0;left: 50%;z-index: -1;}#sk-container-id-3 div.sk-parallel-item {display: flex;flex-direction: column;z-index: 1;position: relative;background-color: white;}#sk-container-id-3 div.sk-parallel-item:first-child::after {align-self: flex-end;width: 50%;}#sk-container-id-3 div.sk-parallel-item:last-child::after {align-self: flex-start;width: 50%;}#sk-container-id-3 div.sk-parallel-item:only-child::after {width: 0;}#sk-container-id-3 div.sk-dashed-wrapped {border: 1px dashed gray;margin: 0 0.4em 0.5em 0.4em;box-sizing: border-box;padding-bottom: 0.4em;background-color: white;}#sk-container-id-3 div.sk-label label {font-family: monospace;font-weight: bold;display: inline-block;line-height: 1.2em;}#sk-container-id-3 div.sk-label-container {text-align: center;}#sk-container-id-3 div.sk-container {/* jupyter's `normalize.less` sets `[hidden] { display: none; }` but bootstrap.min.css set `[hidden] { display: none !important; }` so we also need the `!important` here to be able to override the default hidden behavior on the sphinx rendered scikit-learn.org. See: https://github.com/scikit-learn/scikit-learn/issues/21755 */display: inline-block !important;position: relative;}#sk-container-id-3 div.sk-text-repr-fallback {display: none;}</style><div id=\"sk-container-id-3\" class=\"sk-top-container\"><div class=\"sk-text-repr-fallback\"><pre>LogisticRegression(class_weight=&#x27;balanced&#x27;, max_iter=200)</pre><b>In a Jupyter environment, please rerun this cell to show the HTML representation or trust the notebook. <br />On GitHub, the HTML representation is unable to render, please try loading this page with nbviewer.org.</b></div><div class=\"sk-container\" hidden><div class=\"sk-item\"><div class=\"sk-estimator sk-toggleable\"><input class=\"sk-toggleable__control sk-hidden--visually\" id=\"sk-estimator-id-3\" type=\"checkbox\" checked><label for=\"sk-estimator-id-3\" class=\"sk-toggleable__label sk-toggleable__label-arrow\">LogisticRegression</label><div class=\"sk-toggleable__content\"><pre>LogisticRegression(class_weight=&#x27;balanced&#x27;, max_iter=200)</pre></div></div></div></div></div>"
      ],
      "text/plain": [
       "LogisticRegression(class_weight='balanced', max_iter=200)"
      ]
     },
     "execution_count": 58,
     "metadata": {},
     "output_type": "execute_result"
    }
   ],
   "source": [
    "# Preprocess and apply SMOTE\n",
    "X_train_preprocessed = preprocessor.fit_transform(X_train)\n",
    "X_train_res, y_train_res = smote.fit_resample(X_train_preprocessed, y_train)\n",
    "\n",
    "# Train on resampled data\n",
    "logreg_model = LogisticRegression(max_iter=200, class_weight='balanced')\n",
    "logreg_model.fit(X_train_res, y_train_res)\n"
   ]
  },
  {
   "cell_type": "code",
   "execution_count": 61,
   "id": "d5aa18d2",
   "metadata": {},
   "outputs": [
    {
     "name": "stdout",
     "output_type": "stream",
     "text": [
      "Confusion Matrix:\n",
      "[[684 288]\n",
      " [ 10  40]]\n",
      "\n",
      "Classification Report:\n",
      "              precision    recall  f1-score   support\n",
      "\n",
      "           0       0.99      0.70      0.82       972\n",
      "           1       0.12      0.80      0.21        50\n",
      "\n",
      "    accuracy                           0.71      1022\n",
      "   macro avg       0.55      0.75      0.52      1022\n",
      "weighted avg       0.94      0.71      0.79      1022\n",
      "\n",
      "Accuracy: 0.7084\n"
     ]
    }
   ],
   "source": [
    "\n",
    "def evaluate_model(model, X, y_true):\n",
    "\ty_pred = model.predict(X)\n",
    "\tprint(\"Confusion Matrix:\")\n",
    "\tprint(confusion_matrix(y_true, y_pred))\n",
    "\tprint(\"\\nClassification Report:\")\n",
    "\tprint(classification_report(y_true, y_pred))\n",
    "\tprint(f\"Accuracy: {accuracy_score(y_true, y_pred):.4f}\")\n",
    "\n",
    "# Apply the same preprocessing to the test set\n",
    "X_test_preprocessed = preprocessor.transform(X_test)\n",
    "\n",
    "# Evaluate\n",
    "evaluate_model(logreg_model, X_test_preprocessed, y_test)\n"
   ]
  },
  {
   "cell_type": "code",
   "execution_count": 63,
   "id": "a675b4a8",
   "metadata": {},
   "outputs": [
    {
     "data": {
      "image/png": "[encoded data removed]",
      "text/plain": [
       "<Figure size 432x288 with 1 Axes>"
      ]
     },
     "metadata": {
      "needs_background": "light"
     },
     "output_type": "display_data"
    }
   ],
   "source": [
    "fpr, tpr, _ = roc_curve(y_test, y_proba)\n",
    "roc_auc = auc(fpr, tpr)\n",
    "# Plot ROC curve\n",
    "plt.figure(figsize=(6, 4))\n",
    "plt.plot(fpr, tpr, color='darkorange', lw=2, label=f'ROC curve (AUC = {roc_auc:.2f})')\n",
    "plt.plot([0, 1], [0, 1], color='navy', lw=2, linestyle='--')\n",
    "plt.xlim([-0.01, 1.01])\n",
    "plt.ylim([-0.01, 1.01])\n",
    "plt.xlabel('False Positive Rate')\n",
    "plt.ylabel('True Positive Rate')\n",
    "plt.title(' ROC Curve')\n",
    "plt.legend(loc=\"lower right\")\n",
    "plt.grid(True)\n",
    "plt.show()"
   ]
  },
  {
   "cell_type": "markdown",
   "id": "e77bf3cf",
   "metadata": {},
   "source": [
    "The results from our logistic regression model, trained with SMOTE to address class imbalance, show a notable trade-off between correctly identifying stroke cases and overall prediction accuracy. The model achieves an overall accuracy of 70.84%, but more importantly, it demonstrates a recall of 80% for the minority class (stroke cases), meaning it correctly identifies 8 out of 10 actual stroke cases.\n",
    "\n",
    "The confusion matrix shows that out of 972 non-stroke cases, 288 were misclassified as strokes, while only 10 out of 50 actual stroke cases were missed. This outcome reflects a model that prioritizes sensitivity (recall) over specificity, which is typically desirable in healthcare contexts where missing a positive case (stroke) can have serious consequences.\n",
    "\n",
    "We are using this model as our baseline because it provides a reliable starting point that effectively addresses the class imbalance problem using SMOTE and captures most stroke cases. Although it sacrifices precision, its strong recall makes it suitable for comparison with more advanced models"
   ]
  },
  {
   "cell_type": "markdown",
   "id": "a794b9a3",
   "metadata": {},
   "source": [
    "## Finding the best performing model\n"
   ]
  },
  {
   "cell_type": "markdown",
   "id": "4ff2e377",
   "metadata": {},
   "source": [
    "+ In our analysis, we are focused on identifying the best-performing classification model for predicting stroke occurrences. We began by establishing a baseline using logistic regression with SMOTE to handle class imbalance. While this model gave us a starting point, our goal is to improve performance, especially on the minority class (stroke = 1), where recall and precision are critical. \n",
    "\n",
    "+ To achieve this we are training more advanced models like Random Forest to improve performance, especially recall on the minority class. We’ll compare models using metrics like precision, recall, F1-score, and ROC AUC to choose the most effective one"
   ]
  },
  {
   "cell_type": "markdown",
   "id": "3810e832",
   "metadata": {},
   "source": [
    "### RandomForestClassifier"
   ]
  },
  {
   "cell_type": "code",
   "execution_count": 64,
   "id": "adfbb600",
   "metadata": {},
   "outputs": [
    {
     "data": {
      "text/html": [
       "<style>#sk-container-id-4 {color: black;}#sk-container-id-4 pre{padding: 0;}#sk-container-id-4 div.sk-toggleable {background-color: white;}#sk-container-id-4 label.sk-toggleable__label {cursor: pointer;display: block;width: 100%;margin-bottom: 0;padding: 0.3em;box-sizing: border-box;text-align: center;}#sk-container-id-4 label.sk-toggleable__label-arrow:before {content: \"▸\";float: left;margin-right: 0.25em;color: #696969;}#sk-container-id-4 label.sk-toggleable__label-arrow:hover:before {color: black;}#sk-container-id-4 div.sk-estimator:hover label.sk-toggleable__label-arrow:before {color: black;}#sk-container-id-4 div.sk-toggleable__content {max-height: 0;max-width: 0;overflow: hidden;text-align: left;background-color: #f0f8ff;}#sk-container-id-4 div.sk-toggleable__content pre {margin: 0.2em;color: black;border-radius: 0.25em;background-color: #f0f8ff;}#sk-container-id-4 input.sk-toggleable__control:checked~div.sk-toggleable__content {max-height: 200px;max-width: 100%;overflow: auto;}#sk-container-id-4 input.sk-toggleable__control:checked~label.sk-toggleable__label-arrow:before {content: \"▾\";}#sk-container-id-4 div.sk-estimator input.sk-toggleable__control:checked~label.sk-toggleable__label {background-color: #d4ebff;}#sk-container-id-4 div.sk-label input.sk-toggleable__control:checked~label.sk-toggleable__label {background-color: #d4ebff;}#sk-container-id-4 input.sk-hidden--visually {border: 0;clip: rect(1px 1px 1px 1px);clip: rect(1px, 1px, 1px, 1px);height: 1px;margin: -1px;overflow: hidden;padding: 0;position: absolute;width: 1px;}#sk-container-id-4 div.sk-estimator {font-family: monospace;background-color: #f0f8ff;border: 1px dotted black;border-radius: 0.25em;box-sizing: border-box;margin-bottom: 0.5em;}#sk-container-id-4 div.sk-estimator:hover {background-color: #d4ebff;}#sk-container-id-4 div.sk-parallel-item::after {content: \"\";width: 100%;border-bottom: 1px solid gray;flex-grow: 1;}#sk-container-id-4 div.sk-label:hover label.sk-toggleable__label {background-color: #d4ebff;}#sk-container-id-4 div.sk-serial::before {content: \"\";position: absolute;border-left: 1px solid gray;box-sizing: border-box;top: 0;bottom: 0;left: 50%;z-index: 0;}#sk-container-id-4 div.sk-serial {display: flex;flex-direction: column;align-items: center;background-color: white;padding-right: 0.2em;padding-left: 0.2em;position: relative;}#sk-container-id-4 div.sk-item {position: relative;z-index: 1;}#sk-container-id-4 div.sk-parallel {display: flex;align-items: stretch;justify-content: center;background-color: white;position: relative;}#sk-container-id-4 div.sk-item::before, #sk-container-id-4 div.sk-parallel-item::before {content: \"\";position: absolute;border-left: 1px solid gray;box-sizing: border-box;top: 0;bottom: 0;left: 50%;z-index: -1;}#sk-container-id-4 div.sk-parallel-item {display: flex;flex-direction: column;z-index: 1;position: relative;background-color: white;}#sk-container-id-4 div.sk-parallel-item:first-child::after {align-self: flex-end;width: 50%;}#sk-container-id-4 div.sk-parallel-item:last-child::after {align-self: flex-start;width: 50%;}#sk-container-id-4 div.sk-parallel-item:only-child::after {width: 0;}#sk-container-id-4 div.sk-dashed-wrapped {border: 1px dashed gray;margin: 0 0.4em 0.5em 0.4em;box-sizing: border-box;padding-bottom: 0.4em;background-color: white;}#sk-container-id-4 div.sk-label label {font-family: monospace;font-weight: bold;display: inline-block;line-height: 1.2em;}#sk-container-id-4 div.sk-label-container {text-align: center;}#sk-container-id-4 div.sk-container {/* jupyter's `normalize.less` sets `[hidden] { display: none; }` but bootstrap.min.css set `[hidden] { display: none !important; }` so we also need the `!important` here to be able to override the default hidden behavior on the sphinx rendered scikit-learn.org. See: https://github.com/scikit-learn/scikit-learn/issues/21755 */display: inline-block !important;position: relative;}#sk-container-id-4 div.sk-text-repr-fallback {display: none;}</style><div id=\"sk-container-id-4\" class=\"sk-top-container\"><div class=\"sk-text-repr-fallback\"><pre>RandomForestClassifier(random_state=42)</pre><b>In a Jupyter environment, please rerun this cell to show the HTML representation or trust the notebook. <br />On GitHub, the HTML representation is unable to render, please try loading this page with nbviewer.org.</b></div><div class=\"sk-container\" hidden><div class=\"sk-item\"><div class=\"sk-estimator sk-toggleable\"><input class=\"sk-toggleable__control sk-hidden--visually\" id=\"sk-estimator-id-4\" type=\"checkbox\" checked><label for=\"sk-estimator-id-4\" class=\"sk-toggleable__label sk-toggleable__label-arrow\">RandomForestClassifier</label><div class=\"sk-toggleable__content\"><pre>RandomForestClassifier(random_state=42)</pre></div></div></div></div></div>"
      ],
      "text/plain": [
       "RandomForestClassifier(random_state=42)"
      ]
     },
     "execution_count": 64,
     "metadata": {},
     "output_type": "execute_result"
    }
   ],
   "source": [
    "# Train Random Forest\n",
    "rf_model = RandomForestClassifier(random_state=42)\n",
    "rf_model.fit(X_train_res, y_train_res)"
   ]
  },
  {
   "cell_type": "code",
   "execution_count": 65,
   "id": "01463dba",
   "metadata": {},
   "outputs": [
    {
     "name": "stdout",
     "output_type": "stream",
     "text": [
      "Classification Report:\n",
      "               precision    recall  f1-score   support\n",
      "\n",
      "           0       0.95      0.99      0.97       972\n",
      "           1       0.20      0.06      0.09        50\n",
      "\n",
      "    accuracy                           0.94      1022\n",
      "   macro avg       0.58      0.52      0.53      1022\n",
      "weighted avg       0.92      0.94      0.93      1022\n",
      "\n",
      "\n",
      "Confusion Matrix:\n",
      " [[960  12]\n",
      " [ 47   3]]\n",
      "\n",
      "ROC AUC Score: 0.7551131687242798\n"
     ]
    }
   ],
   "source": [
    "\n",
    "y_pred = rf_model.predict(X_test_preprocessed)\n",
    "y_proba = rf_model.predict_proba(X_test_preprocessed)[:, 1]\n",
    "\n",
    "# Evaluation\n",
    "print(\"Classification Report:\\n\", classification_report(y_test, y_pred))\n",
    "print(\"\\nConfusion Matrix:\\n\", confusion_matrix(y_test, y_pred))\n",
    "print(\"\\nROC AUC Score:\", roc_auc_score(y_test, y_proba))\n"
   ]
  },
  {
   "cell_type": "code",
   "execution_count": 69,
   "id": "7b6126a1",
   "metadata": {},
   "outputs": [
    {
     "data": {
      "image/png": "[encoded data removed]",
      "text/plain": [
       "<Figure size 432x288 with 2 Axes>"
      ]
     },
     "metadata": {
      "needs_background": "light"
     },
     "output_type": "display_data"
    },
    {
     "data": {
      "image/png": "[encoded data removed]",
      "text/plain": [
       "<Figure size 432x288 with 1 Axes>"
      ]
     },
     "metadata": {
      "needs_background": "light"
     },
     "output_type": "display_data"
    }
   ],
   "source": [
    "# Confusion Matrix\n",
    "cm = confusion_matrix(y_test, y_pred)\n",
    "plt.figure(figsize=(6,4))\n",
    "sns.heatmap(cm, annot=True, fmt='d', cmap='Blues', xticklabels=[0,1], yticklabels=[0,1])\n",
    "plt.xlabel('Predicted')\n",
    "plt.ylabel('Actual')\n",
    "plt.title('Confusion Matrix')\n",
    "plt.show()\n",
    "\n",
    "# ROC Curve\n",
    "RocCurveDisplay.from_estimator(rf_model, X_test_preprocessed, y_test)\n",
    "plt.title('ROC Curve - Random Forest')\n",
    "plt.show()\n"
   ]
  },
  {
   "cell_type": "markdown",
   "id": "dfb089e1",
   "metadata": {},
   "source": [
    "+ The current Random Forest model, even after applying SMOTE to balance the training data, shows high accuracy (94%) but performs poorly in identifying stroke cases (class 1), with a recall of only 6%. This is largely due to class imbalance in the test set and the default classification threshold of 0.5, which tends to favor the majority class.\n",
    "\n",
    "+ Adjusting the classification threshold can help strike a better balance between precision and recall, allowing the model to identify more stroke cases"
   ]
  },
  {
   "cell_type": "code",
   "execution_count": 73,
   "id": "d5148f35",
   "metadata": {},
   "outputs": [
    {
     "data": {
      "image/png": "[encoded data removed]",
      "text/plain": [
       "<Figure size 576x432 with 1 Axes>"
      ]
     },
     "metadata": {
      "needs_background": "light"
     },
     "output_type": "display_data"
    }
   ],
   "source": [
    "# Get predicted probabilities for the positive class (stroke = 1)\n",
    "from sklearn.metrics import precision_recall_curve\n",
    "\n",
    "\n",
    "y_probs = rf_model.predict_proba(preprocessor.transform(X_test))[:, 1]\n",
    "\n",
    "# Plot Precision-Recall vs Threshold\n",
    "precision, recall, thresholds = precision_recall_curve(y_test, y_probs)\n",
    "\n",
    "plt.figure(figsize=(8, 6))\n",
    "plt.plot(thresholds, precision[:-1], label=\"Precision\")\n",
    "plt.plot(thresholds, recall[:-1], label=\"Recall\")\n",
    "plt.xlabel(\"Threshold\")\n",
    "plt.ylabel(\"Score\")\n",
    "plt.title(\"Precision and Recall vs Classification Threshold\")\n",
    "plt.legend()\n",
    "plt.grid(True)\n",
    "plt.show()"
   ]
  },
  {
   "cell_type": "code",
   "execution_count": 74,
   "id": "220d2a66",
   "metadata": {},
   "outputs": [
    {
     "name": "stdout",
     "output_type": "stream",
     "text": [
      "Classification Report:\n",
      "               precision    recall  f1-score   support\n",
      "\n",
      "           0       0.96      0.93      0.95       972\n",
      "           1       0.15      0.22      0.18        50\n",
      "\n",
      "    accuracy                           0.90      1022\n",
      "   macro avg       0.55      0.58      0.56      1022\n",
      "weighted avg       0.92      0.90      0.91      1022\n",
      "\n",
      "Confusion Matrix:\n",
      " [[908  64]\n",
      " [ 39  11]]\n",
      "ROC AUC Score: 0.7551131687242798\n"
     ]
    }
   ],
   "source": [
    "custom_threshold = 0.3\n",
    "y_pred_custom = (y_probs >= custom_threshold).astype(int)\n",
    "\n",
    "# Evaluate\n",
    "print(\"Classification Report:\\n\", classification_report(y_test, y_pred_custom))\n",
    "print(\"Confusion Matrix:\\n\", confusion_matrix(y_test, y_pred_custom))\n",
    "print(\"ROC AUC Score:\", roc_auc_score(y_test, y_probs))"
   ]
  },
  {
   "cell_type": "code",
   "execution_count": 75,
   "id": "301e9a21",
   "metadata": {},
   "outputs": [
    {
     "data": {
      "image/png": "[encoded data removed]",
      "text/plain": [
       "<Figure size 432x288 with 1 Axes>"
      ]
     },
     "metadata": {
      "needs_background": "light"
     },
     "output_type": "display_data"
    }
   ],
   "source": [
    "# Predict probabilities\n",
    "y_probs = model.predict_proba(X_test_preprocessed)[:,1]\n",
    "\n",
    "# ROC\n",
    "fpr, tpr, thresholds = roc_curve(y_test, y_probs)\n",
    "roc_auc = auc(fpr, tpr)\n",
    "\n",
    "# Plot\n",
    "plt.figure(figsize=(6,4))\n",
    "plt.plot(fpr, tpr, label=f'AUC = {roc_auc:.2f}')\n",
    "plt.plot([0,1], [0,1], 'k--')\n",
    "plt.xlabel('False Positive Rate')\n",
    "plt.ylabel('True Positive Rate')\n",
    "plt.title('ROC Curve')\n",
    "plt.legend()\n",
    "plt.grid(True)\n",
    "plt.show()\n"
   ]
  },
  {
   "cell_type": "markdown",
   "id": "69402c75",
   "metadata": {},
   "source": [
    "+ After adjusting the classification threshold, we observed an increase in recall for the minority class (stroke = 1), rising from 6% to 22%. Although this came at the cost of some precision and overall accuracy, it allowed the model to identify more true stroke cases, which is critical in medical applications where missing a positive case can have serious consequences. "
   ]
  },
  {
   "cell_type": "markdown",
   "id": "f4b012fc",
   "metadata": {},
   "source": [
    "### XGBoost\n"
   ]
  },
  {
   "cell_type": "code",
   "execution_count": 77,
   "id": "5d39d0cc",
   "metadata": {},
   "outputs": [
    {
     "name": "stdout",
     "output_type": "stream",
     "text": [
      "[13:44:15] WARNING: C:\\Users\\Administrator\\workspace\\xgboost-win64_release_1.2.0\\src\\learner.cc:516: \n",
      "Parameters: { use_label_encoder } might not be used.\n",
      "\n",
      "  This may not be accurate due to some parameters are only used in language bindings but\n",
      "  passed down to XGBoost core.  Or some parameters are not used but slip through this\n",
      "  verification. Please open an issue if you find above cases.\n",
      "\n",
      "\n",
      "Classification Report:\n",
      "              precision    recall  f1-score   support\n",
      "\n",
      "           0       0.95      0.98      0.97       972\n",
      "           1       0.23      0.10      0.14        50\n",
      "\n",
      "    accuracy                           0.94      1022\n",
      "   macro avg       0.59      0.54      0.55      1022\n",
      "weighted avg       0.92      0.94      0.93      1022\n",
      "\n",
      "\n",
      "Confusion Matrix:\n",
      " [[955  17]\n",
      " [ 45   5]]\n",
      "\n",
      "ROC AUC Score: 0.7706\n"
     ]
    }
   ],
   "source": [
    "from sklearn.metrics import roc_auc_score\n",
    "\n",
    "\n",
    "gb_model = XGBClassifier(use_label_encoder=False, eval_metric='logloss', random_state=42)\n",
    "gb_model.fit(X_train_res, y_train_res)\n",
    "\n",
    "# Predict\n",
    "y_pred = gb_model.predict(X_test_preprocessed)\n",
    "y_probs = gb_model.predict_proba(X_test_preprocessed)[:, 1]\n",
    "\n",
    "# Metrics\n",
    "cm = confusion_matrix(y_test, y_pred)\n",
    "roc_auc = roc_auc_score(y_test, y_probs)\n",
    "fpr, tpr, _ = roc_curve(y_test, y_probs)\n",
    "precision, recall, _ = precision_recall_curve(y_test, y_probs)\n",
    "\n",
    "# Print report\n",
    "print(\"Classification Report:\")\n",
    "print(classification_report(y_test, y_pred))\n",
    "print(\"\\nConfusion Matrix:\\n\", cm)\n",
    "print(f\"\\nROC AUC Score: {roc_auc:.4f}\")"
   ]
  },
  {
   "cell_type": "markdown",
   "id": "de7a240f",
   "metadata": {},
   "source": [
    "+ The XGBoost model achieved a high overall accuracy of 94%, driven largely by its strong performance on the majority class (non-stroke cases). It had a precision of 0.23 and recall of 0.10 for the minority class (stroke), indicating that it still struggles to correctly identify true stroke cases despite SMOTE balancing. The ROC AUC score of 0.77 suggests moderate discriminatory ability.\n",
    "\n",
    "+ Further improvements like threshold tuning, cross-validation, or feature selection are needed to enhance minority class detection."
   ]
  },
  {
   "cell_type": "code",
   "execution_count": 82,
   "id": "7860fbb9",
   "metadata": {},
   "outputs": [
    {
     "name": "stdout",
     "output_type": "stream",
     "text": [
      "Classification Report:\n",
      "               precision    recall  f1-score   support\n",
      "\n",
      "           0       0.98      0.80      0.88       972\n",
      "           1       0.14      0.60      0.22        50\n",
      "\n",
      "    accuracy                           0.79      1022\n",
      "   macro avg       0.56      0.70      0.55      1022\n",
      "weighted avg       0.93      0.79      0.85      1022\n",
      "\n",
      "Confusion Matrix:\n",
      " [[782 190]\n",
      " [ 20  30]]\n",
      "ROC AUC Score: 0.7705555555555555\n",
      "Best Threshold: 0.03274241\n",
      "[13:57:03] WARNING: C:\\Users\\Administrator\\workspace\\xgboost-win64_release_1.2.0\\src\\learner.cc:516: \n",
      "Parameters: { use_label_encoder } might not be used.\n",
      "\n",
      "  This may not be accurate due to some parameters are only used in language bindings but\n",
      "  passed down to XGBoost core.  Or some parameters are not used but slip through this\n",
      "  verification. Please open an issue if you find above cases.\n",
      "\n",
      "\n",
      "Best Hyperparameters: {'learning_rate': 0.1, 'max_depth': 5, 'n_estimators': 200, 'subsample': 0.8}\n"
     ]
    }
   ],
   "source": [
    "#Predict probabilities and tune threshold\n",
    "y_probs = gb_model.predict_proba(X_test_preprocessed)[:, 1]\n",
    "precisions, recalls, thresholds = precision_recall_curve(y_test, y_probs)\n",
    "f1_scores = 2 * (precisions * recalls) / (precisions + recalls + 1e-8)\n",
    "best_thresh_idx = np.argmax(f1_scores)\n",
    "best_thresh = thresholds[best_thresh_idx]\n",
    "\n",
    "#Predict with best threshold\n",
    "y_pred_thresh = (y_probs >= best_thresh).astype(int)\n",
    "\n",
    "\n",
    "print(\"Classification Report:\\n\", classification_report(y_test, y_pred_thresh))\n",
    "print(\"Confusion Matrix:\\n\", confusion_matrix(y_test, y_pred_thresh))\n",
    "print(\"ROC AUC Score:\", roc_auc_score(y_test, y_probs))\n",
    "print(\"Best Threshold:\", best_thresh)\n",
    "\n",
    "# Hyperparameter tuning\n",
    "param_grid = {\n",
    "    'n_estimators': [100, 200],\n",
    "    'max_depth': [3, 5],\n",
    "    'learning_rate': [0.05, 0.1],\n",
    "    'subsample': [0.8, 1]\n",
    "}\n",
    "\n",
    "grid_search = GridSearchCV(\n",
    "    estimator=XGBClassifier(use_label_encoder=False, eval_metric='logloss', random_state=42),\n",
    "    param_grid=param_grid,\n",
    "    cv=3,\n",
    "    scoring='roc_auc',\n",
    "    n_jobs=-1\n",
    ")\n",
    "\n",
    "grid_search.fit(X_train_res, y_train_res)\n",
    "\n",
    "print(\"Best Hyperparameters:\", grid_search.best_params_)"
   ]
  },
  {
   "cell_type": "markdown",
   "id": "f2f0eb67",
   "metadata": {},
   "source": [
    "The tuned XGBoost model shows significantly improved recall for the minority class (1), increasing from very low values to 0.60, meaning it can now correctly identify 60% of the actual positive cases.\n",
    "\n",
    "However, this comes at the cost of reduced precision (0.14) and overall accuracy (0.79), because more false positives are predicted."
   ]
  },
  {
   "cell_type": "code",
   "execution_count": 84,
   "id": "3d99904a",
   "metadata": {},
   "outputs": [
    {
     "data": {
      "image/png": "[encoded data removed]",
      "text/plain": [
       "<Figure size 432x288 with 1 Axes>"
      ]
     },
     "metadata": {
      "needs_background": "light"
     },
     "output_type": "display_data"
    },
    {
     "data": {
      "image/png": "[encoded data removed]",
      "text/plain": [
       "<Figure size 432x288 with 2 Axes>"
      ]
     },
     "metadata": {
      "needs_background": "light"
     },
     "output_type": "display_data"
    }
   ],
   "source": [
    "\n",
    "plt.figure()\n",
    "plt.plot(fpr, tpr, label=f'XGBoost (AUC = {roc_auc:.2f})')\n",
    "plt.plot([0, 1], [0, 1], linestyle='--', color='gray')\n",
    "plt.xlabel('False Positive Rate')\n",
    "plt.ylabel('True Positive Rate')\n",
    "plt.title('ROC Curve')\n",
    "plt.legend()\n",
    "plt.grid(True)\n",
    "plt.show()\n",
    "\n",
    "ConfusionMatrixDisplay.from_predictions(y_test, y_pred_thresh, cmap='Blues')\n",
    "plt.title(\"Confusion Matrix (Tuned Threshold)\")\n",
    "plt.show()"
   ]
  },
  {
   "cell_type": "code",
   "execution_count": null,
   "id": "f6604693",
   "metadata": {},
   "outputs": [
    {
     "name": "stderr",
     "output_type": "stream",
     "text": [
      "<ipython-input-87-88ac19b33944>:6: FutureWarning: \n",
      "\n",
      "Passing `palette` without assigning `hue` is deprecated and will be removed in v0.14.0. Assign the `x` variable to `hue` and set `legend=False` for the same effect.\n",
      "\n",
      "  sns.barplot(x=model_names, y=accuracies, palette=\"viridis\")\n"
     ]
    },
    {
     "data": {
      "image/png": "[encoded data removed]",
      "text/plain": [
       "<Figure size 576x360 with 1 Axes>"
      ]
     },
     "metadata": {
      "needs_background": "light"
     },
     "output_type": "display_data"
    }
   ],
   "source": [
    "\n",
    "\n",
    "#Accuracy scores from previous results\n",
    "model_names = [\"Baseline Logistic Regression\", \"Random Forest\", \"Tuned XGBoost\"]\n",
    "accuracies = [0.7084, 0.90, 0.79] \n",
    "\n",
    "plt.figure(figsize=(8, 5))\n",
    "sns.barplot(x=model_names, y=accuracies, palette=\"viridis\")\n",
    "plt.ylim(0, 1)\n",
    "plt.title(\"Model Accuracy Comparison (Before CV & Feature Selection)\")\n",
    "plt.ylabel(\"Accuracy\")\n",
    "plt.xlabel(\"Model\")\n",
    "plt.xticks(rotation=15)\n",
    "plt.grid(axis='y')\n",
    "plt.tight_layout()\n",
    "plt.show();\n"
   ]
  },
  {
   "cell_type": "markdown",
   "id": "8647667a",
   "metadata": {},
   "source": [
    "### Applying cross validation and Feature selection"
   ]
  },
  {
   "cell_type": "markdown",
   "id": "c80fa8bd",
   "metadata": {},
   "source": [
    "#### Applying on XGboost"
   ]
  },
  {
   "cell_type": "code",
   "execution_count": 88,
   "id": "85a72a1f",
   "metadata": {},
   "outputs": [],
   "source": [
    "X_train_preprocessed = preprocessor.fit_transform(X_train)\n",
    "X_test_preprocessed = preprocessor.transform(X_test)\n"
   ]
  },
  {
   "cell_type": "code",
   "execution_count": null,
   "id": "fed8911c",
   "metadata": {},
   "outputs": [],
   "source": [
    "from sklearn.feature_selection import SelectKBest, f_classif\n",
    "\n",
    "selector = SelectKBest(score_func=f_classif, k=20)  # you can tune k\n",
    "X_train_selected = selector.fit_transform(X_train_preprocessed, y_train)\n",
    "X_test_selected = selector.transform(X_test_preprocessed)\n"
   ]
  },
  {
   "cell_type": "code",
   "execution_count": 105,
   "id": "b4199f9f",
   "metadata": {},
   "outputs": [
    {
     "name": "stdout",
     "output_type": "stream",
     "text": [
      "Cross-Validated Accuracy Scores: [0.95110024 0.94254279 0.94369645 0.93635251 0.94002448]\n",
      "Mean Accuracy: 0.9427432942394651\n"
     ]
    }
   ],
   "source": [
    "xgb = XGBClassifier(eval_metric='logloss')\n",
    "cv_scores = cross_val_score(xgb, X_train_selected, y_train, cv=5, scoring='accuracy')\n",
    "\n",
    "print(\"Cross-Validated Accuracy Scores:\", cv_scores)\n",
    "print(\"Mean Accuracy:\", np.mean(cv_scores))\n",
    "\n",
    "#Train and evaluate after CV\n",
    "xgb.fit(X_train_selected, y_train)\n",
    "y_pred = xgb.predict(X_test_selected)\n"
   ]
  },
  {
   "cell_type": "code",
   "execution_count": 108,
   "id": "39e2ce04",
   "metadata": {},
   "outputs": [
    {
     "name": "stdout",
     "output_type": "stream",
     "text": [
      "Cross-Validated Precision Scores: [1.         0.97982346 0.97735849 0.98600509 0.98232323]\n",
      "Mean Precision: 0.9851\n",
      "--------------------------------------------------\n",
      "Cross-Validated Recall Scores: [0.75835476 1.         1.         0.99614396 1.        ]\n",
      "Mean Recall: 0.9509\n",
      "--------------------------------------------------\n",
      "Cross-Validated F1 Score Scores: [0.8625731  0.98980892 0.98854962 0.99104859 0.9910828 ]\n",
      "Mean F1 Score: 0.9646\n",
      "--------------------------------------------------\n"
     ]
    }
   ],
   "source": [
    "from sklearn.model_selection import cross_val_score\n",
    "from sklearn.metrics import make_scorer, precision_score, recall_score, f1_score\n",
    "from xgboost import XGBClassifier\n",
    "\n",
    "# Define the XGBoost model\n",
    "xgb = XGBClassifier (eval_metric='logloss',\n",
    "                    learning_rate=0.1, max_depth=5, n_estimators=200, subsample=0.8)\n",
    "\n",
    "# Custom scorers targeting class 1\n",
    "precision_scorer = make_scorer(precision_score, pos_label=1)\n",
    "recall_scorer = make_scorer(recall_score, pos_label=1)\n",
    "f1_scorer = make_scorer(f1_score, pos_label=1)\n",
    "\n",
    "# Evaluate each metric\n",
    "for scorer, name in zip([precision_scorer, recall_scorer, f1_scorer], \n",
    "                        ['Precision', 'Recall', 'F1 Score']):\n",
    "    scores = cross_val_score(xgb, X_train_res, y_train_res, cv=5, scoring=scorer)\n",
    "    print(f\"Cross-Validated {name} Scores:\", scores)\n",
    "    print(f\"Mean {name}: {scores.mean():.4f}\")\n",
    "    print(\"-\" * 50)\n"
   ]
  },
  {
   "cell_type": "markdown",
   "id": "c0ec83fc",
   "metadata": {},
   "source": [
    "+ Following threshold tuning and hyperparameter optimization, we cross-validated the XGBoost model to assess its robustness on the minority class (class 1).\n",
    "+ The model achieved a mean precision of **0.9851**, mean recall of **0.9509**, and a mean F1-score of **0.9646** across 5 folds. These metrics indicate that the model is highly effective at both detecting and correctly predicting the minority class"
   ]
  },
  {
   "cell_type": "markdown",
   "id": "f871c4fb",
   "metadata": {},
   "source": [
    "#### Applying on RandomForestClassifier & Logistic regression"
   ]
  },
  {
   "cell_type": "code",
   "execution_count": 110,
   "id": "be7d6d8e",
   "metadata": {},
   "outputs": [],
   "source": [
    "logreg = LogisticRegression(max_iter=200, class_weight='balanced')\n",
    "rf = RandomForestClassifier(n_estimators=100, class_weight='balanced', random_state=42)"
   ]
  },
  {
   "cell_type": "code",
   "execution_count": null,
   "id": "06b335b3",
   "metadata": {},
   "outputs": [
    {
     "name": "stdout",
     "output_type": "stream",
     "text": [
      "Logistic Regression - Precision: 0.7524\n",
      "Logistic Regression - Recall: 0.8907\n",
      "Logistic Regression - F1: 0.8156\n",
      "Random Forest - Precision: 0.9805\n",
      "Random Forest - Recall: 0.9699\n",
      "Random Forest - F1: 0.9740\n"
     ]
    }
   ],
   "source": [
    "models = {'Logistic Regression': logreg, 'Random Forest': rf}\n",
    "# Custom scorers\n",
    "precision_scorer = make_scorer(precision_score, pos_label=1)\n",
    "recall_scorer = make_scorer(recall_score, pos_label=1)\n",
    "f1_scorer = make_scorer(f1_score, pos_label=1)\n",
    "\n",
    "#Storing the scores\n",
    "scores_dict = {model_name: {} for model_name in models}\n",
    "\n",
    "#cross-validation\n",
    "for name, model in models.items():\n",
    "    for scorer, metric_name in zip([precision_scorer, recall_scorer, f1_scorer], \n",
    "                                   ['Precision', 'Recall', 'F1']):\n",
    "        scores = cross_val_score(model, X_train_res, y_train_res, cv=5, scoring=scorer)\n",
    "        scores_dict[name][metric_name] = scores.mean()\n",
    "        print(f\"{name} - {metric_name}: {scores.mean():.4f}\")"
   ]
  },
  {
   "cell_type": "markdown",
   "id": "c9dd6c8e",
   "metadata": {},
   "source": [
    "+ Logistic Regression achieved a recall of **0.8907**, indicating its strength in identifying the minority class, but its precision was lower at **0.7524**, leading to more false positives. This trade-off resulted in a respectable F1 score of 0.8156.\n",
    "+ Random Forest demonstrated both high precision **0.9805** and recall **0.9699**, achieving a robust F1 score of 0.9740\n",
    "\n"
   ]
  },
  {
   "cell_type": "code",
   "execution_count": 116,
   "id": "54a1d7ca",
   "metadata": {},
   "outputs": [
    {
     "data": {
      "image/png": "[encoded data removed]",
      "text/plain": [
       "<Figure size 720x432 with 1 Axes>"
      ]
     },
     "metadata": {
      "needs_background": "light"
     },
     "output_type": "display_data"
    }
   ],
   "source": [
    "# visualization of the 3 models scores\n",
    "models = ['Logistic Regression', 'Random Forest', 'XGBoost']\n",
    "precision_scores = [0.7524, 0.9805, 0.9851]\n",
    "recall_scores = [0.8907, 0.9699, 0.9509]\n",
    "f1_scores = [0.8156, 0.9740, 0.9646]\n",
    "\n",
    "x = np.arange(len(models))\n",
    "width = 0.25\n",
    "\n",
    "fig, ax = plt.subplots(figsize=(10, 6))\n",
    "bars1 = ax.bar(x - width, precision_scores, width, label='Precision')\n",
    "bars2 = ax.bar(x, recall_scores, width, label='Recall')\n",
    "bars3 = ax.bar(x + width, f1_scores, width, label='F1 Score')\n",
    "\n",
    "ax.set_ylabel('Score')\n",
    "ax.set_title('Model Comparison: Precision, Recall, F1 Score')\n",
    "ax.set_xticks(x)\n",
    "ax.set_xticklabels(models)\n",
    "ax.set_ylim(0, 1.1)\n",
    "ax.legend()\n",
    "\n",
    "\n",
    "plt.tight_layout()\n",
    "plt.show()"
   ]
  },
  {
   "cell_type": "markdown",
   "id": "ab974ee0",
   "metadata": {},
   "source": [
    "## Selecting the final model\n"
   ]
  },
  {
   "cell_type": "markdown",
   "id": "8dd96602",
   "metadata": {},
   "source": [
    "* Based on the metrics, Random Forest stands out with the most balanced performance—extremely high precision and recall—making it the top candidate for deployment.\n",
    "+ However, XGBoost is a very close contender and might be preferred in some environments for its flexibility and additional tuning options"
   ]
  },
  {
   "cell_type": "markdown",
   "id": "5b45fdfd",
   "metadata": {},
   "source": [
    "#### comparing base logistic regression to a tuned one"
   ]
  },
  {
   "cell_type": "markdown",
   "id": "0b55c9ab",
   "metadata": {},
   "source": [
    "* Based on the metrics, Random Forest stands out with the most balanced performance—extremely high precision and recall—making it the top candidate for deployment.\n",
    "+ However, XGBoost is a very close contender and might be preferred in some environments for its flexibility and additional tuning options"
   ]
  },
  {
   "cell_type": "code",
   "execution_count": 153,
   "id": "bbba91b0",
   "metadata": {},
   "outputs": [
    {
     "name": "stdout",
     "output_type": "stream",
     "text": [
      " Best Parameters: {'logreg__C': 0.01, 'logreg__penalty': 'l1'}\n",
      "Best F1 Score (CV): 0.2253\n",
      "Evaluation on Test Set:\n",
      "[[676 296]\n",
      " [  8  42]]\n",
      "              precision    recall  f1-score   support\n",
      "\n",
      "           0       0.99      0.70      0.82       972\n",
      "           1       0.12      0.84      0.22        50\n",
      "\n",
      "    accuracy                           0.70      1022\n",
      "   macro avg       0.56      0.77      0.52      1022\n",
      "weighted avg       0.95      0.70      0.79      1022\n",
      "\n",
      "Accuracy: 0.7025\n"
     ]
    }
   ],
   "source": [
    "# Define pipeline using imblearn\n",
    "pipeline = Pipeline([\n",
    "    ('smote', SMOTE(random_state=42)),\n",
    "    ('logreg', LogisticRegression(max_iter=200, class_weight='balanced', solver='liblinear'))\n",
    "])\n",
    "\n",
    "\n",
    "param_grid = {\n",
    "    'logreg__C': [0.01, 0.1, 1, 10],\n",
    "    'logreg__penalty': ['l1', 'l2']\n",
    "}\n",
    "\n",
    "# Scoring\n",
    "scoring = {\n",
    "    'Precision': make_scorer(precision_score, pos_label=1),\n",
    "    'Recall': make_scorer(recall_score, pos_label=1),\n",
    "    'F1': make_scorer(f1_score, pos_label=1)\n",
    "}\n",
    "\n",
    "# GridSearchCV with cross-validation\n",
    "grid = GridSearchCV(\n",
    "    estimator=pipeline,\n",
    "    param_grid=param_grid,\n",
    "    scoring=scoring,\n",
    "    refit='F1',  # Optimize based on F1\n",
    "    cv=5,\n",
    "    n_jobs=-1\n",
    ")\n",
    "\n",
    "grid.fit(X_train_preprocessed, y_train)\n",
    "\n",
    "# Evaluate the best model\n",
    "best_model = grid.best_estimator_\n",
    "y_pred = best_model.predict(X_test_preprocessed)\n",
    "\n",
    "print(\" Best Parameters:\", grid.best_params_)\n",
    "print(f\"Best F1 Score (CV): {grid.best_score_:.4f}\")\n",
    "print(\"Evaluation on Test Set:\")\n",
    "print(confusion_matrix(y_test, y_pred))\n",
    "print(classification_report(y_test, y_pred))\n",
    "print(f\"Accuracy: {accuracy_score(y_test, y_pred):.4f}\")\n"
   ]
  },
  {
   "cell_type": "markdown",
   "id": "f0ccdc70",
   "metadata": {},
   "source": [
    "+ The tuned logistic regression model, optimized with SMOTE, cross-validation, and GridSearchCV (C=0.01, L1 penalty), showed a significant improvement in identifying stroke cases. \n",
    "+ While overall accuracy was 70.25%, the model achieved a high recall of 0.84 for stroke predictions—crucial for medical use cases despite a low precision of 0.12\n",
    "+ The F1-score for stroke rose to 0.22, aligning with cross-validated result.\n",
    "\n",
    "+ Compared to the baseline, this model better detects true stroke cases, confirming that tuning and class balancing improved minority class performance."
   ]
  },
  {
   "cell_type": "markdown",
   "id": "88bab910",
   "metadata": {},
   "source": [
    "#### checking for overfitting"
   ]
  },
  {
   "cell_type": "code",
   "execution_count": 158,
   "id": "bb71d8f8",
   "metadata": {},
   "outputs": [
    {
     "name": "stdout",
     "output_type": "stream",
     "text": [
      "Training Set Evaluation\n",
      "Accuracy: 0.9334475165157817\n",
      "              precision    recall  f1-score   support\n",
      "\n",
      "           0       0.99      0.94      0.96      3888\n",
      "           1       0.41      0.81      0.54       199\n",
      "\n",
      "    accuracy                           0.93      4087\n",
      "   macro avg       0.70      0.88      0.75      4087\n",
      "weighted avg       0.96      0.93      0.94      4087\n",
      "\n",
      " Test Set Evaluation\n",
      "Accuracy: 0.8874755381604696\n",
      "              precision    recall  f1-score   support\n",
      "\n",
      "           0       0.96      0.92      0.94       972\n",
      "           1       0.16      0.30      0.21        50\n",
      "\n",
      "    accuracy                           0.89      1022\n",
      "   macro avg       0.56      0.61      0.57      1022\n",
      "weighted avg       0.92      0.89      0.90      1022\n",
      "\n"
     ]
    }
   ],
   "source": [
    "y_train_pred = model.predict(X_train)\n",
    "y_test_pred = model.predict(X_test)\n",
    "\n",
    "\n",
    "print(\"Training Set Evaluation\")\n",
    "print(\"Accuracy:\", accuracy_score(y_train, y_train_pred))\n",
    "print(classification_report(y_train, y_train_pred))\n",
    "\n",
    "# Evaluate on test set\n",
    "print(\" Test Set Evaluation\")\n",
    "print(\"Accuracy:\", accuracy_score(y_test, y_test_pred))\n",
    "print(classification_report(y_test, y_test_pred))"
   ]
  },
  {
   "cell_type": "markdown",
   "id": "b1533069",
   "metadata": {},
   "source": [
    "+ The model performs strongly on training data, detecting 81% of stroke cases, but its performance drops on test data, identifying only 30%. This gap suggests overfitting — the model learned training patterns too well and struggles to generalize to new, unseen data.\n"
   ]
  },
  {
   "cell_type": "markdown",
   "id": "27203ebf",
   "metadata": {},
   "source": [
    "### Business recommendations"
   ]
  },
  {
   "cell_type": "markdown",
   "id": "fc69cecb",
   "metadata": {},
   "source": [
    "1) Enable Early Risk Screening\n",
    "Deploy the high-recall model in clinical settings to flag individuals at high risk of stroke for early intervention.\n",
    "\n",
    "2) Integrate into Health Systems\n",
    "Incorporate the model into digital health tools or insurance platforms to assess and manage stroke risk in routine assessments.\n",
    "\n",
    "3) Use as a Pre-Screening Tool\n",
    "Due to low precision, use the model to pre-screen patients—follow up with clinical validation before acting on predictions.\n",
    "\n",
    "4) Enhance Data Quality\n",
    "Improve model performance by collecting additional features like lifestyle habits, family history, and detailed clinical metrics."
   ]
  },
  {
   "cell_type": "markdown",
   "id": "74c536cb",
   "metadata": {},
   "source": [
    "### Limitation of our analysis"
   ]
  },
  {
   "cell_type": "markdown",
   "id": "1fc3942e",
   "metadata": {},
   "source": [
    "1) Imbalanced Dataset\n",
    "Despite using SMOTE to address class imbalance, the original dataset had very few stroke cases, which may still bias model performance and generalizability.\n",
    "\n",
    "2) Low Precision for Stroke Cases\n",
    "The tuned models achieved high recall but very low precision for stroke prediction, indicating a high rate of false positives and limited clinical usability without further validation.\n",
    "\n",
    "3) Limited Feature Set\n",
    "The dataset lacked important medical and behavioral variables such as smoking duration, exercise frequency, diet, or family history, which are known stroke risk factors.\n",
    "\n",
    "4) Model Interpretability Trade-offs\n",
    "While Logistic Regression is interpretable, tuning with L1 regularization and threshold adjustments complicates interpretation and decision-making without medical domain knowledge.\n",
    "\n"
   ]
  }
 ],
 "metadata": {
  "kernelspec": {
   "display_name": "learn-env",
   "language": "python",
   "name": "python3"
  },
  "language_info": {
   "codemirror_mode": {
    "name": "ipython",
    "version": 3
   },
   "file_extension": ".py",
   "mimetype": "text/x-python",
   "name": "python",
   "nbconvert_exporter": "python",
   "pygments_lexer": "ipython3",
   "version": "3.8.5"
  }
 },
 "nbformat": 4,
 "nbformat_minor": 5
}
